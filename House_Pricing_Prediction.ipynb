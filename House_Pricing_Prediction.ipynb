{
 "cells": [
  {
   "cell_type": "markdown",
   "id": "f0747ddf",
   "metadata": {},
   "source": [
    "# The current notebook contains code for the prediction of house pricing, based on 79 explanatory variables of different characteristics/conditions of residential homes. \n",
    "\n",
    "This is the House Pricing Kaggle challenge. For more details about this challenge visit: [House Pricing Kaggle Challenge](https://www.kaggle.com/c/house-prices-advanced-regression-techniques/overview) \n",
    "\n",
    "The prediction is perfomed using a Random Forest Regressor\n"
   ]
  },
  {
   "cell_type": "markdown",
   "id": "4338dc2d",
   "metadata": {},
   "source": [
    "---\n",
    "## Importing libraries and modules"
   ]
  },
  {
   "cell_type": "code",
   "execution_count": 1,
   "id": "d33c0eb3",
   "metadata": {},
   "outputs": [],
   "source": [
    "import numpy as np\n",
    "import pandas as pd\n",
    "pd.options.mode.chained_assignment = None\n",
    "# so that we do not receive warnings every time\n",
    "# we overwrite dataframes \n",
    "import time\n",
    "import matplotlib.pyplot as plt \n",
    "from mpl_toolkits.mplot3d import Axes3D\n",
    "\n",
    "from sklearn.ensemble import RandomForestRegressor as rfrg \n",
    "from sklearn.decomposition import PCA  \n",
    "from sklearn.feature_selection import mutual_info_classif as MI \n",
    "from sklearn.metrics import mean_squared_error as MSE \n",
    "from itertools import compress "
   ]
  },
  {
   "cell_type": "markdown",
   "id": "d33c7d54",
   "metadata": {},
   "source": [
    "## Upload the data"
   ]
  },
  {
   "cell_type": "code",
   "execution_count": 2,
   "id": "01bed37b",
   "metadata": {},
   "outputs": [
    {
     "name": "stdout",
     "output_type": "stream",
     "text": [
      "Rows in training database: 1460\n",
      "\n",
      "Rows in test database: 1459\n"
     ]
    }
   ],
   "source": [
    "import os\n",
    "path = os.getcwd()\n",
    "path=path+'/DATA'\n",
    "df_train = pd.read_csv(path+'/train.csv')\n",
    "df_test = pd.read_csv(path+'/test.csv')\n",
    "\n",
    "print(\"Rows in training database: {}\".format(df_train.shape[0]))\n",
    "print(\"\\nRows in test database: {}\".format(df_test.shape[0]))"
   ]
  },
  {
   "cell_type": "markdown",
   "id": "97c694f2",
   "metadata": {},
   "source": [
    "## Dealing with Null values"
   ]
  },
  {
   "cell_type": "code",
   "execution_count": 3,
   "id": "585163c6",
   "metadata": {},
   "outputs": [],
   "source": [
    "null_in_train = df_train.isnull().sum(axis=0) > 0\n",
    "null_in_test = df_test.isnull().sum(axis=0) > 0"
   ]
  },
  {
   "cell_type": "code",
   "execution_count": 4,
   "id": "a3895888",
   "metadata": {},
   "outputs": [
    {
     "name": "stdout",
     "output_type": "stream",
     "text": [
      "Columns in train database with null entries: 19\n"
     ]
    }
   ],
   "source": [
    "print(\"Columns in train database with null entries: {}\".format(null_in_train.sum()))"
   ]
  },
  {
   "cell_type": "code",
   "execution_count": 5,
   "id": "da943f4d",
   "metadata": {},
   "outputs": [
    {
     "name": "stdout",
     "output_type": "stream",
     "text": [
      "Columns in test database with null entries: 33\n"
     ]
    }
   ],
   "source": [
    "print(\"Columns in test database with null entries: {}\".format(null_in_test.sum()))"
   ]
  },
  {
   "cell_type": "code",
   "execution_count": 6,
   "id": "86b5ad71",
   "metadata": {},
   "outputs": [],
   "source": [
    "null_cols_train = null_in_train.index[null_in_train]\n",
    "null_cols_test = null_in_test.index[null_in_test]"
   ]
  },
  {
   "cell_type": "code",
   "execution_count": 7,
   "id": "db1f1653",
   "metadata": {},
   "outputs": [
    {
     "data": {
      "text/html": [
       "<div>\n",
       "<style scoped>\n",
       "    .dataframe tbody tr th:only-of-type {\n",
       "        vertical-align: middle;\n",
       "    }\n",
       "\n",
       "    .dataframe tbody tr th {\n",
       "        vertical-align: top;\n",
       "    }\n",
       "\n",
       "    .dataframe thead th {\n",
       "        text-align: right;\n",
       "    }\n",
       "</style>\n",
       "<table border=\"1\" class=\"dataframe\">\n",
       "  <thead>\n",
       "    <tr style=\"text-align: right;\">\n",
       "      <th></th>\n",
       "      <th>LotFrontage</th>\n",
       "      <th>Alley</th>\n",
       "      <th>MasVnrType</th>\n",
       "      <th>MasVnrArea</th>\n",
       "      <th>BsmtQual</th>\n",
       "      <th>BsmtCond</th>\n",
       "      <th>BsmtExposure</th>\n",
       "      <th>BsmtFinType1</th>\n",
       "      <th>BsmtFinType2</th>\n",
       "      <th>Electrical</th>\n",
       "      <th>FireplaceQu</th>\n",
       "      <th>GarageType</th>\n",
       "      <th>GarageYrBlt</th>\n",
       "      <th>GarageFinish</th>\n",
       "      <th>GarageQual</th>\n",
       "      <th>GarageCond</th>\n",
       "      <th>PoolQC</th>\n",
       "      <th>Fence</th>\n",
       "      <th>MiscFeature</th>\n",
       "    </tr>\n",
       "  </thead>\n",
       "  <tbody>\n",
       "    <tr>\n",
       "      <th>0</th>\n",
       "      <td>65.0</td>\n",
       "      <td>NaN</td>\n",
       "      <td>BrkFace</td>\n",
       "      <td>196.0</td>\n",
       "      <td>Gd</td>\n",
       "      <td>TA</td>\n",
       "      <td>No</td>\n",
       "      <td>GLQ</td>\n",
       "      <td>Unf</td>\n",
       "      <td>SBrkr</td>\n",
       "      <td>NaN</td>\n",
       "      <td>Attchd</td>\n",
       "      <td>2003.0</td>\n",
       "      <td>RFn</td>\n",
       "      <td>TA</td>\n",
       "      <td>TA</td>\n",
       "      <td>NaN</td>\n",
       "      <td>NaN</td>\n",
       "      <td>NaN</td>\n",
       "    </tr>\n",
       "    <tr>\n",
       "      <th>1</th>\n",
       "      <td>80.0</td>\n",
       "      <td>NaN</td>\n",
       "      <td>None</td>\n",
       "      <td>0.0</td>\n",
       "      <td>Gd</td>\n",
       "      <td>TA</td>\n",
       "      <td>Gd</td>\n",
       "      <td>ALQ</td>\n",
       "      <td>Unf</td>\n",
       "      <td>SBrkr</td>\n",
       "      <td>TA</td>\n",
       "      <td>Attchd</td>\n",
       "      <td>1976.0</td>\n",
       "      <td>RFn</td>\n",
       "      <td>TA</td>\n",
       "      <td>TA</td>\n",
       "      <td>NaN</td>\n",
       "      <td>NaN</td>\n",
       "      <td>NaN</td>\n",
       "    </tr>\n",
       "    <tr>\n",
       "      <th>2</th>\n",
       "      <td>68.0</td>\n",
       "      <td>NaN</td>\n",
       "      <td>BrkFace</td>\n",
       "      <td>162.0</td>\n",
       "      <td>Gd</td>\n",
       "      <td>TA</td>\n",
       "      <td>Mn</td>\n",
       "      <td>GLQ</td>\n",
       "      <td>Unf</td>\n",
       "      <td>SBrkr</td>\n",
       "      <td>TA</td>\n",
       "      <td>Attchd</td>\n",
       "      <td>2001.0</td>\n",
       "      <td>RFn</td>\n",
       "      <td>TA</td>\n",
       "      <td>TA</td>\n",
       "      <td>NaN</td>\n",
       "      <td>NaN</td>\n",
       "      <td>NaN</td>\n",
       "    </tr>\n",
       "    <tr>\n",
       "      <th>3</th>\n",
       "      <td>60.0</td>\n",
       "      <td>NaN</td>\n",
       "      <td>None</td>\n",
       "      <td>0.0</td>\n",
       "      <td>TA</td>\n",
       "      <td>Gd</td>\n",
       "      <td>No</td>\n",
       "      <td>ALQ</td>\n",
       "      <td>Unf</td>\n",
       "      <td>SBrkr</td>\n",
       "      <td>Gd</td>\n",
       "      <td>Detchd</td>\n",
       "      <td>1998.0</td>\n",
       "      <td>Unf</td>\n",
       "      <td>TA</td>\n",
       "      <td>TA</td>\n",
       "      <td>NaN</td>\n",
       "      <td>NaN</td>\n",
       "      <td>NaN</td>\n",
       "    </tr>\n",
       "    <tr>\n",
       "      <th>4</th>\n",
       "      <td>84.0</td>\n",
       "      <td>NaN</td>\n",
       "      <td>BrkFace</td>\n",
       "      <td>350.0</td>\n",
       "      <td>Gd</td>\n",
       "      <td>TA</td>\n",
       "      <td>Av</td>\n",
       "      <td>GLQ</td>\n",
       "      <td>Unf</td>\n",
       "      <td>SBrkr</td>\n",
       "      <td>TA</td>\n",
       "      <td>Attchd</td>\n",
       "      <td>2000.0</td>\n",
       "      <td>RFn</td>\n",
       "      <td>TA</td>\n",
       "      <td>TA</td>\n",
       "      <td>NaN</td>\n",
       "      <td>NaN</td>\n",
       "      <td>NaN</td>\n",
       "    </tr>\n",
       "    <tr>\n",
       "      <th>...</th>\n",
       "      <td>...</td>\n",
       "      <td>...</td>\n",
       "      <td>...</td>\n",
       "      <td>...</td>\n",
       "      <td>...</td>\n",
       "      <td>...</td>\n",
       "      <td>...</td>\n",
       "      <td>...</td>\n",
       "      <td>...</td>\n",
       "      <td>...</td>\n",
       "      <td>...</td>\n",
       "      <td>...</td>\n",
       "      <td>...</td>\n",
       "      <td>...</td>\n",
       "      <td>...</td>\n",
       "      <td>...</td>\n",
       "      <td>...</td>\n",
       "      <td>...</td>\n",
       "      <td>...</td>\n",
       "    </tr>\n",
       "    <tr>\n",
       "      <th>1455</th>\n",
       "      <td>62.0</td>\n",
       "      <td>NaN</td>\n",
       "      <td>None</td>\n",
       "      <td>0.0</td>\n",
       "      <td>Gd</td>\n",
       "      <td>TA</td>\n",
       "      <td>No</td>\n",
       "      <td>Unf</td>\n",
       "      <td>Unf</td>\n",
       "      <td>SBrkr</td>\n",
       "      <td>TA</td>\n",
       "      <td>Attchd</td>\n",
       "      <td>1999.0</td>\n",
       "      <td>RFn</td>\n",
       "      <td>TA</td>\n",
       "      <td>TA</td>\n",
       "      <td>NaN</td>\n",
       "      <td>NaN</td>\n",
       "      <td>NaN</td>\n",
       "    </tr>\n",
       "    <tr>\n",
       "      <th>1456</th>\n",
       "      <td>85.0</td>\n",
       "      <td>NaN</td>\n",
       "      <td>Stone</td>\n",
       "      <td>119.0</td>\n",
       "      <td>Gd</td>\n",
       "      <td>TA</td>\n",
       "      <td>No</td>\n",
       "      <td>ALQ</td>\n",
       "      <td>Rec</td>\n",
       "      <td>SBrkr</td>\n",
       "      <td>TA</td>\n",
       "      <td>Attchd</td>\n",
       "      <td>1978.0</td>\n",
       "      <td>Unf</td>\n",
       "      <td>TA</td>\n",
       "      <td>TA</td>\n",
       "      <td>NaN</td>\n",
       "      <td>MnPrv</td>\n",
       "      <td>NaN</td>\n",
       "    </tr>\n",
       "    <tr>\n",
       "      <th>1457</th>\n",
       "      <td>66.0</td>\n",
       "      <td>NaN</td>\n",
       "      <td>None</td>\n",
       "      <td>0.0</td>\n",
       "      <td>TA</td>\n",
       "      <td>Gd</td>\n",
       "      <td>No</td>\n",
       "      <td>GLQ</td>\n",
       "      <td>Unf</td>\n",
       "      <td>SBrkr</td>\n",
       "      <td>Gd</td>\n",
       "      <td>Attchd</td>\n",
       "      <td>1941.0</td>\n",
       "      <td>RFn</td>\n",
       "      <td>TA</td>\n",
       "      <td>TA</td>\n",
       "      <td>NaN</td>\n",
       "      <td>GdPrv</td>\n",
       "      <td>Shed</td>\n",
       "    </tr>\n",
       "    <tr>\n",
       "      <th>1458</th>\n",
       "      <td>68.0</td>\n",
       "      <td>NaN</td>\n",
       "      <td>None</td>\n",
       "      <td>0.0</td>\n",
       "      <td>TA</td>\n",
       "      <td>TA</td>\n",
       "      <td>Mn</td>\n",
       "      <td>GLQ</td>\n",
       "      <td>Rec</td>\n",
       "      <td>FuseA</td>\n",
       "      <td>NaN</td>\n",
       "      <td>Attchd</td>\n",
       "      <td>1950.0</td>\n",
       "      <td>Unf</td>\n",
       "      <td>TA</td>\n",
       "      <td>TA</td>\n",
       "      <td>NaN</td>\n",
       "      <td>NaN</td>\n",
       "      <td>NaN</td>\n",
       "    </tr>\n",
       "    <tr>\n",
       "      <th>1459</th>\n",
       "      <td>75.0</td>\n",
       "      <td>NaN</td>\n",
       "      <td>None</td>\n",
       "      <td>0.0</td>\n",
       "      <td>TA</td>\n",
       "      <td>TA</td>\n",
       "      <td>No</td>\n",
       "      <td>BLQ</td>\n",
       "      <td>LwQ</td>\n",
       "      <td>SBrkr</td>\n",
       "      <td>NaN</td>\n",
       "      <td>Attchd</td>\n",
       "      <td>1965.0</td>\n",
       "      <td>Fin</td>\n",
       "      <td>TA</td>\n",
       "      <td>TA</td>\n",
       "      <td>NaN</td>\n",
       "      <td>NaN</td>\n",
       "      <td>NaN</td>\n",
       "    </tr>\n",
       "  </tbody>\n",
       "</table>\n",
       "<p>1460 rows × 19 columns</p>\n",
       "</div>"
      ],
      "text/plain": [
       "      LotFrontage Alley MasVnrType  MasVnrArea BsmtQual BsmtCond BsmtExposure  \\\n",
       "0            65.0   NaN    BrkFace       196.0       Gd       TA           No   \n",
       "1            80.0   NaN       None         0.0       Gd       TA           Gd   \n",
       "2            68.0   NaN    BrkFace       162.0       Gd       TA           Mn   \n",
       "3            60.0   NaN       None         0.0       TA       Gd           No   \n",
       "4            84.0   NaN    BrkFace       350.0       Gd       TA           Av   \n",
       "...           ...   ...        ...         ...      ...      ...          ...   \n",
       "1455         62.0   NaN       None         0.0       Gd       TA           No   \n",
       "1456         85.0   NaN      Stone       119.0       Gd       TA           No   \n",
       "1457         66.0   NaN       None         0.0       TA       Gd           No   \n",
       "1458         68.0   NaN       None         0.0       TA       TA           Mn   \n",
       "1459         75.0   NaN       None         0.0       TA       TA           No   \n",
       "\n",
       "     BsmtFinType1 BsmtFinType2 Electrical FireplaceQu GarageType  GarageYrBlt  \\\n",
       "0             GLQ          Unf      SBrkr         NaN     Attchd       2003.0   \n",
       "1             ALQ          Unf      SBrkr          TA     Attchd       1976.0   \n",
       "2             GLQ          Unf      SBrkr          TA     Attchd       2001.0   \n",
       "3             ALQ          Unf      SBrkr          Gd     Detchd       1998.0   \n",
       "4             GLQ          Unf      SBrkr          TA     Attchd       2000.0   \n",
       "...           ...          ...        ...         ...        ...          ...   \n",
       "1455          Unf          Unf      SBrkr          TA     Attchd       1999.0   \n",
       "1456          ALQ          Rec      SBrkr          TA     Attchd       1978.0   \n",
       "1457          GLQ          Unf      SBrkr          Gd     Attchd       1941.0   \n",
       "1458          GLQ          Rec      FuseA         NaN     Attchd       1950.0   \n",
       "1459          BLQ          LwQ      SBrkr         NaN     Attchd       1965.0   \n",
       "\n",
       "     GarageFinish GarageQual GarageCond PoolQC  Fence MiscFeature  \n",
       "0             RFn         TA         TA    NaN    NaN         NaN  \n",
       "1             RFn         TA         TA    NaN    NaN         NaN  \n",
       "2             RFn         TA         TA    NaN    NaN         NaN  \n",
       "3             Unf         TA         TA    NaN    NaN         NaN  \n",
       "4             RFn         TA         TA    NaN    NaN         NaN  \n",
       "...           ...        ...        ...    ...    ...         ...  \n",
       "1455          RFn         TA         TA    NaN    NaN         NaN  \n",
       "1456          Unf         TA         TA    NaN  MnPrv         NaN  \n",
       "1457          RFn         TA         TA    NaN  GdPrv        Shed  \n",
       "1458          Unf         TA         TA    NaN    NaN         NaN  \n",
       "1459          Fin         TA         TA    NaN    NaN         NaN  \n",
       "\n",
       "[1460 rows x 19 columns]"
      ]
     },
     "execution_count": 7,
     "metadata": {},
     "output_type": "execute_result"
    }
   ],
   "source": [
    "df_train[null_cols_train]"
   ]
  },
  {
   "cell_type": "code",
   "execution_count": 8,
   "id": "ad4f2230",
   "metadata": {
    "scrolled": true
   },
   "outputs": [
    {
     "data": {
      "text/html": [
       "<div>\n",
       "<style scoped>\n",
       "    .dataframe tbody tr th:only-of-type {\n",
       "        vertical-align: middle;\n",
       "    }\n",
       "\n",
       "    .dataframe tbody tr th {\n",
       "        vertical-align: top;\n",
       "    }\n",
       "\n",
       "    .dataframe thead th {\n",
       "        text-align: right;\n",
       "    }\n",
       "</style>\n",
       "<table border=\"1\" class=\"dataframe\">\n",
       "  <thead>\n",
       "    <tr style=\"text-align: right;\">\n",
       "      <th></th>\n",
       "      <th>MSZoning</th>\n",
       "      <th>LotFrontage</th>\n",
       "      <th>Alley</th>\n",
       "      <th>Utilities</th>\n",
       "      <th>Exterior1st</th>\n",
       "      <th>Exterior2nd</th>\n",
       "      <th>MasVnrType</th>\n",
       "      <th>MasVnrArea</th>\n",
       "      <th>BsmtQual</th>\n",
       "      <th>BsmtCond</th>\n",
       "      <th>...</th>\n",
       "      <th>GarageYrBlt</th>\n",
       "      <th>GarageFinish</th>\n",
       "      <th>GarageCars</th>\n",
       "      <th>GarageArea</th>\n",
       "      <th>GarageQual</th>\n",
       "      <th>GarageCond</th>\n",
       "      <th>PoolQC</th>\n",
       "      <th>Fence</th>\n",
       "      <th>MiscFeature</th>\n",
       "      <th>SaleType</th>\n",
       "    </tr>\n",
       "  </thead>\n",
       "  <tbody>\n",
       "    <tr>\n",
       "      <th>0</th>\n",
       "      <td>RH</td>\n",
       "      <td>80.0</td>\n",
       "      <td>NaN</td>\n",
       "      <td>AllPub</td>\n",
       "      <td>VinylSd</td>\n",
       "      <td>VinylSd</td>\n",
       "      <td>None</td>\n",
       "      <td>0.0</td>\n",
       "      <td>TA</td>\n",
       "      <td>TA</td>\n",
       "      <td>...</td>\n",
       "      <td>1961.0</td>\n",
       "      <td>Unf</td>\n",
       "      <td>1.0</td>\n",
       "      <td>730.0</td>\n",
       "      <td>TA</td>\n",
       "      <td>TA</td>\n",
       "      <td>NaN</td>\n",
       "      <td>MnPrv</td>\n",
       "      <td>NaN</td>\n",
       "      <td>WD</td>\n",
       "    </tr>\n",
       "    <tr>\n",
       "      <th>1</th>\n",
       "      <td>RL</td>\n",
       "      <td>81.0</td>\n",
       "      <td>NaN</td>\n",
       "      <td>AllPub</td>\n",
       "      <td>Wd Sdng</td>\n",
       "      <td>Wd Sdng</td>\n",
       "      <td>BrkFace</td>\n",
       "      <td>108.0</td>\n",
       "      <td>TA</td>\n",
       "      <td>TA</td>\n",
       "      <td>...</td>\n",
       "      <td>1958.0</td>\n",
       "      <td>Unf</td>\n",
       "      <td>1.0</td>\n",
       "      <td>312.0</td>\n",
       "      <td>TA</td>\n",
       "      <td>TA</td>\n",
       "      <td>NaN</td>\n",
       "      <td>NaN</td>\n",
       "      <td>Gar2</td>\n",
       "      <td>WD</td>\n",
       "    </tr>\n",
       "    <tr>\n",
       "      <th>2</th>\n",
       "      <td>RL</td>\n",
       "      <td>74.0</td>\n",
       "      <td>NaN</td>\n",
       "      <td>AllPub</td>\n",
       "      <td>VinylSd</td>\n",
       "      <td>VinylSd</td>\n",
       "      <td>None</td>\n",
       "      <td>0.0</td>\n",
       "      <td>Gd</td>\n",
       "      <td>TA</td>\n",
       "      <td>...</td>\n",
       "      <td>1997.0</td>\n",
       "      <td>Fin</td>\n",
       "      <td>2.0</td>\n",
       "      <td>482.0</td>\n",
       "      <td>TA</td>\n",
       "      <td>TA</td>\n",
       "      <td>NaN</td>\n",
       "      <td>MnPrv</td>\n",
       "      <td>NaN</td>\n",
       "      <td>WD</td>\n",
       "    </tr>\n",
       "    <tr>\n",
       "      <th>3</th>\n",
       "      <td>RL</td>\n",
       "      <td>78.0</td>\n",
       "      <td>NaN</td>\n",
       "      <td>AllPub</td>\n",
       "      <td>VinylSd</td>\n",
       "      <td>VinylSd</td>\n",
       "      <td>BrkFace</td>\n",
       "      <td>20.0</td>\n",
       "      <td>TA</td>\n",
       "      <td>TA</td>\n",
       "      <td>...</td>\n",
       "      <td>1998.0</td>\n",
       "      <td>Fin</td>\n",
       "      <td>2.0</td>\n",
       "      <td>470.0</td>\n",
       "      <td>TA</td>\n",
       "      <td>TA</td>\n",
       "      <td>NaN</td>\n",
       "      <td>NaN</td>\n",
       "      <td>NaN</td>\n",
       "      <td>WD</td>\n",
       "    </tr>\n",
       "    <tr>\n",
       "      <th>4</th>\n",
       "      <td>RL</td>\n",
       "      <td>43.0</td>\n",
       "      <td>NaN</td>\n",
       "      <td>AllPub</td>\n",
       "      <td>HdBoard</td>\n",
       "      <td>HdBoard</td>\n",
       "      <td>None</td>\n",
       "      <td>0.0</td>\n",
       "      <td>Gd</td>\n",
       "      <td>TA</td>\n",
       "      <td>...</td>\n",
       "      <td>1992.0</td>\n",
       "      <td>RFn</td>\n",
       "      <td>2.0</td>\n",
       "      <td>506.0</td>\n",
       "      <td>TA</td>\n",
       "      <td>TA</td>\n",
       "      <td>NaN</td>\n",
       "      <td>NaN</td>\n",
       "      <td>NaN</td>\n",
       "      <td>WD</td>\n",
       "    </tr>\n",
       "    <tr>\n",
       "      <th>...</th>\n",
       "      <td>...</td>\n",
       "      <td>...</td>\n",
       "      <td>...</td>\n",
       "      <td>...</td>\n",
       "      <td>...</td>\n",
       "      <td>...</td>\n",
       "      <td>...</td>\n",
       "      <td>...</td>\n",
       "      <td>...</td>\n",
       "      <td>...</td>\n",
       "      <td>...</td>\n",
       "      <td>...</td>\n",
       "      <td>...</td>\n",
       "      <td>...</td>\n",
       "      <td>...</td>\n",
       "      <td>...</td>\n",
       "      <td>...</td>\n",
       "      <td>...</td>\n",
       "      <td>...</td>\n",
       "      <td>...</td>\n",
       "      <td>...</td>\n",
       "    </tr>\n",
       "    <tr>\n",
       "      <th>1454</th>\n",
       "      <td>RM</td>\n",
       "      <td>21.0</td>\n",
       "      <td>NaN</td>\n",
       "      <td>AllPub</td>\n",
       "      <td>CemntBd</td>\n",
       "      <td>CmentBd</td>\n",
       "      <td>None</td>\n",
       "      <td>0.0</td>\n",
       "      <td>TA</td>\n",
       "      <td>TA</td>\n",
       "      <td>...</td>\n",
       "      <td>NaN</td>\n",
       "      <td>NaN</td>\n",
       "      <td>0.0</td>\n",
       "      <td>0.0</td>\n",
       "      <td>NaN</td>\n",
       "      <td>NaN</td>\n",
       "      <td>NaN</td>\n",
       "      <td>NaN</td>\n",
       "      <td>NaN</td>\n",
       "      <td>WD</td>\n",
       "    </tr>\n",
       "    <tr>\n",
       "      <th>1455</th>\n",
       "      <td>RM</td>\n",
       "      <td>21.0</td>\n",
       "      <td>NaN</td>\n",
       "      <td>AllPub</td>\n",
       "      <td>CemntBd</td>\n",
       "      <td>CmentBd</td>\n",
       "      <td>None</td>\n",
       "      <td>0.0</td>\n",
       "      <td>TA</td>\n",
       "      <td>TA</td>\n",
       "      <td>...</td>\n",
       "      <td>1970.0</td>\n",
       "      <td>Unf</td>\n",
       "      <td>1.0</td>\n",
       "      <td>286.0</td>\n",
       "      <td>TA</td>\n",
       "      <td>TA</td>\n",
       "      <td>NaN</td>\n",
       "      <td>NaN</td>\n",
       "      <td>NaN</td>\n",
       "      <td>WD</td>\n",
       "    </tr>\n",
       "    <tr>\n",
       "      <th>1456</th>\n",
       "      <td>RL</td>\n",
       "      <td>160.0</td>\n",
       "      <td>NaN</td>\n",
       "      <td>AllPub</td>\n",
       "      <td>VinylSd</td>\n",
       "      <td>VinylSd</td>\n",
       "      <td>None</td>\n",
       "      <td>0.0</td>\n",
       "      <td>TA</td>\n",
       "      <td>TA</td>\n",
       "      <td>...</td>\n",
       "      <td>1960.0</td>\n",
       "      <td>Unf</td>\n",
       "      <td>2.0</td>\n",
       "      <td>576.0</td>\n",
       "      <td>TA</td>\n",
       "      <td>TA</td>\n",
       "      <td>NaN</td>\n",
       "      <td>NaN</td>\n",
       "      <td>NaN</td>\n",
       "      <td>WD</td>\n",
       "    </tr>\n",
       "    <tr>\n",
       "      <th>1457</th>\n",
       "      <td>RL</td>\n",
       "      <td>62.0</td>\n",
       "      <td>NaN</td>\n",
       "      <td>AllPub</td>\n",
       "      <td>HdBoard</td>\n",
       "      <td>Wd Shng</td>\n",
       "      <td>None</td>\n",
       "      <td>0.0</td>\n",
       "      <td>Gd</td>\n",
       "      <td>TA</td>\n",
       "      <td>...</td>\n",
       "      <td>NaN</td>\n",
       "      <td>NaN</td>\n",
       "      <td>0.0</td>\n",
       "      <td>0.0</td>\n",
       "      <td>NaN</td>\n",
       "      <td>NaN</td>\n",
       "      <td>NaN</td>\n",
       "      <td>MnPrv</td>\n",
       "      <td>Shed</td>\n",
       "      <td>WD</td>\n",
       "    </tr>\n",
       "    <tr>\n",
       "      <th>1458</th>\n",
       "      <td>RL</td>\n",
       "      <td>74.0</td>\n",
       "      <td>NaN</td>\n",
       "      <td>AllPub</td>\n",
       "      <td>HdBoard</td>\n",
       "      <td>HdBoard</td>\n",
       "      <td>BrkFace</td>\n",
       "      <td>94.0</td>\n",
       "      <td>Gd</td>\n",
       "      <td>TA</td>\n",
       "      <td>...</td>\n",
       "      <td>1993.0</td>\n",
       "      <td>Fin</td>\n",
       "      <td>3.0</td>\n",
       "      <td>650.0</td>\n",
       "      <td>TA</td>\n",
       "      <td>TA</td>\n",
       "      <td>NaN</td>\n",
       "      <td>NaN</td>\n",
       "      <td>NaN</td>\n",
       "      <td>WD</td>\n",
       "    </tr>\n",
       "  </tbody>\n",
       "</table>\n",
       "<p>1459 rows × 33 columns</p>\n",
       "</div>"
      ],
      "text/plain": [
       "     MSZoning  LotFrontage Alley Utilities Exterior1st Exterior2nd MasVnrType  \\\n",
       "0          RH         80.0   NaN    AllPub     VinylSd     VinylSd       None   \n",
       "1          RL         81.0   NaN    AllPub     Wd Sdng     Wd Sdng    BrkFace   \n",
       "2          RL         74.0   NaN    AllPub     VinylSd     VinylSd       None   \n",
       "3          RL         78.0   NaN    AllPub     VinylSd     VinylSd    BrkFace   \n",
       "4          RL         43.0   NaN    AllPub     HdBoard     HdBoard       None   \n",
       "...       ...          ...   ...       ...         ...         ...        ...   \n",
       "1454       RM         21.0   NaN    AllPub     CemntBd     CmentBd       None   \n",
       "1455       RM         21.0   NaN    AllPub     CemntBd     CmentBd       None   \n",
       "1456       RL        160.0   NaN    AllPub     VinylSd     VinylSd       None   \n",
       "1457       RL         62.0   NaN    AllPub     HdBoard     Wd Shng       None   \n",
       "1458       RL         74.0   NaN    AllPub     HdBoard     HdBoard    BrkFace   \n",
       "\n",
       "      MasVnrArea BsmtQual BsmtCond  ... GarageYrBlt GarageFinish  GarageCars  \\\n",
       "0            0.0       TA       TA  ...      1961.0          Unf         1.0   \n",
       "1          108.0       TA       TA  ...      1958.0          Unf         1.0   \n",
       "2            0.0       Gd       TA  ...      1997.0          Fin         2.0   \n",
       "3           20.0       TA       TA  ...      1998.0          Fin         2.0   \n",
       "4            0.0       Gd       TA  ...      1992.0          RFn         2.0   \n",
       "...          ...      ...      ...  ...         ...          ...         ...   \n",
       "1454         0.0       TA       TA  ...         NaN          NaN         0.0   \n",
       "1455         0.0       TA       TA  ...      1970.0          Unf         1.0   \n",
       "1456         0.0       TA       TA  ...      1960.0          Unf         2.0   \n",
       "1457         0.0       Gd       TA  ...         NaN          NaN         0.0   \n",
       "1458        94.0       Gd       TA  ...      1993.0          Fin         3.0   \n",
       "\n",
       "     GarageArea  GarageQual  GarageCond  PoolQC  Fence  MiscFeature SaleType  \n",
       "0         730.0          TA          TA     NaN  MnPrv          NaN       WD  \n",
       "1         312.0          TA          TA     NaN    NaN         Gar2       WD  \n",
       "2         482.0          TA          TA     NaN  MnPrv          NaN       WD  \n",
       "3         470.0          TA          TA     NaN    NaN          NaN       WD  \n",
       "4         506.0          TA          TA     NaN    NaN          NaN       WD  \n",
       "...         ...         ...         ...     ...    ...          ...      ...  \n",
       "1454        0.0         NaN         NaN     NaN    NaN          NaN       WD  \n",
       "1455      286.0          TA          TA     NaN    NaN          NaN       WD  \n",
       "1456      576.0          TA          TA     NaN    NaN          NaN       WD  \n",
       "1457        0.0         NaN         NaN     NaN  MnPrv         Shed       WD  \n",
       "1458      650.0          TA          TA     NaN    NaN          NaN       WD  \n",
       "\n",
       "[1459 rows x 33 columns]"
      ]
     },
     "execution_count": 8,
     "metadata": {},
     "output_type": "execute_result"
    }
   ],
   "source": [
    "df_test[null_cols_test]"
   ]
  },
  {
   "cell_type": "code",
   "execution_count": 9,
   "id": "ea654c75",
   "metadata": {},
   "outputs": [
    {
     "data": {
      "text/plain": [
       "Index(['Id', 'MSSubClass', 'MSZoning', 'LotFrontage', 'LotArea', 'Street',\n",
       "       'Alley', 'LotShape', 'LandContour', 'Utilities', 'LotConfig',\n",
       "       'LandSlope', 'Neighborhood', 'Condition1', 'Condition2', 'BldgType',\n",
       "       'HouseStyle', 'OverallQual', 'OverallCond', 'YearBuilt', 'YearRemodAdd',\n",
       "       'RoofStyle', 'RoofMatl', 'Exterior1st', 'Exterior2nd', 'MasVnrType',\n",
       "       'MasVnrArea', 'ExterQual', 'ExterCond', 'Foundation', 'BsmtQual',\n",
       "       'BsmtCond', 'BsmtExposure', 'BsmtFinType1', 'BsmtFinSF1',\n",
       "       'BsmtFinType2', 'BsmtFinSF2', 'BsmtUnfSF', 'TotalBsmtSF', 'Heating',\n",
       "       'HeatingQC', 'CentralAir', 'Electrical', '1stFlrSF', '2ndFlrSF',\n",
       "       'LowQualFinSF', 'GrLivArea', 'BsmtFullBath', 'BsmtHalfBath', 'FullBath',\n",
       "       'HalfBath', 'BedroomAbvGr', 'KitchenAbvGr', 'KitchenQual',\n",
       "       'TotRmsAbvGrd', 'Functional', 'Fireplaces', 'FireplaceQu', 'GarageType',\n",
       "       'GarageYrBlt', 'GarageFinish', 'GarageCars', 'GarageArea', 'GarageQual',\n",
       "       'GarageCond', 'PavedDrive', 'WoodDeckSF', 'OpenPorchSF',\n",
       "       'EnclosedPorch', '3SsnPorch', 'ScreenPorch', 'PoolArea', 'PoolQC',\n",
       "       'Fence', 'MiscFeature', 'MiscVal', 'MoSold', 'YrSold', 'SaleType',\n",
       "       'SaleCondition', 'SalePrice'],\n",
       "      dtype='object')"
      ]
     },
     "execution_count": 9,
     "metadata": {},
     "output_type": "execute_result"
    }
   ],
   "source": [
    "df_train.columns"
   ]
  },
  {
   "cell_type": "markdown",
   "id": "6e33df64",
   "metadata": {},
   "source": [
    "### Function for replacing NaN values depending on its fraction with respect to not null values in the corresponding column"
   ]
  },
  {
   "cell_type": "code",
   "execution_count": 10,
   "id": "4e8eb715",
   "metadata": {},
   "outputs": [],
   "source": [
    "def replace_nan(df,null_cols,\n",
    "                min_frac_notnan = 0.1):\n",
    "    \"\"\"\n",
    "    Args: \n",
    "        df : pd.dataframe\n",
    "        null_cols : index. Names of the columns\n",
    "                           containing null values\n",
    "        min_frac_notnan : float. Minimum fraction of \n",
    "                                not null values to consider \n",
    "                                the corresponding column\n",
    "                                Default : 0.1\n",
    "    \"\"\"\n",
    "    discarded_cols = []\n",
    "    for col in null_cols:\n",
    "        frac_notnan = 1 - df[col].isnull().sum()/df.shape[0]\n",
    "        if frac_notnan < min_frac_notnan:\n",
    "            discarded_cols.append(col)\n",
    "        \n",
    "    cols_to_check = list(set(list(null_cols)) - set(discarded_cols))\n",
    "    for col in cols_to_check:\n",
    "        not_null = df[col].notnull() \n",
    "        data_type = df[col][not_null].dtype\n",
    "        if data_type == 'object': \n",
    "            df[col][df[col].isnull()] = df[col].value_counts().idxmax()\n",
    "        else:\n",
    "            df[col][df[col].isnull()] = df[col][not_null].mean()\n",
    "    \n",
    "    return df, discarded_cols        "
   ]
  },
  {
   "cell_type": "markdown",
   "id": "dc003693",
   "metadata": {},
   "source": [
    "### Replacing NaN values in training database"
   ]
  },
  {
   "cell_type": "code",
   "execution_count": 11,
   "id": "51224949",
   "metadata": {},
   "outputs": [],
   "source": [
    "df_train, discarded_cols_train = replace_nan(df_train,null_cols_train)"
   ]
  },
  {
   "cell_type": "code",
   "execution_count": 12,
   "id": "417d5824",
   "metadata": {},
   "outputs": [
    {
     "data": {
      "text/plain": [
       "['Alley', 'PoolQC', 'MiscFeature']"
      ]
     },
     "execution_count": 12,
     "metadata": {},
     "output_type": "execute_result"
    }
   ],
   "source": [
    "discarded_cols_train"
   ]
  },
  {
   "cell_type": "markdown",
   "id": "9f5542eb",
   "metadata": {},
   "source": [
    "### Replacing NaN values in test database"
   ]
  },
  {
   "cell_type": "code",
   "execution_count": 13,
   "id": "b02aabb4",
   "metadata": {},
   "outputs": [],
   "source": [
    "df_test, discarded_cols_test = replace_nan(df_test,null_cols_test)"
   ]
  },
  {
   "cell_type": "code",
   "execution_count": 14,
   "id": "eabd9a91",
   "metadata": {},
   "outputs": [
    {
     "data": {
      "text/plain": [
       "['Alley', 'PoolQC', 'MiscFeature']"
      ]
     },
     "execution_count": 14,
     "metadata": {},
     "output_type": "execute_result"
    }
   ],
   "source": [
    "discarded_cols_test"
   ]
  },
  {
   "cell_type": "markdown",
   "id": "9f25f54f",
   "metadata": {},
   "source": [
    "### Discard columns with 'too many' NaN values "
   ]
  },
  {
   "cell_type": "code",
   "execution_count": 15,
   "id": "7c2ff930",
   "metadata": {},
   "outputs": [],
   "source": [
    "df_train = df_train.drop(columns=discarded_cols_train)\n",
    "df_test = df_test.drop(columns=discarded_cols_test)"
   ]
  },
  {
   "cell_type": "markdown",
   "id": "1fcc4202",
   "metadata": {},
   "source": [
    "### Check that the databases have no NaN values anymore"
   ]
  },
  {
   "cell_type": "code",
   "execution_count": 16,
   "id": "6e3610e2",
   "metadata": {},
   "outputs": [
    {
     "data": {
      "text/plain": [
       "False"
      ]
     },
     "execution_count": 16,
     "metadata": {},
     "output_type": "execute_result"
    }
   ],
   "source": [
    "(df_train.isnull().sum(axis=0) > 0).max()"
   ]
  },
  {
   "cell_type": "code",
   "execution_count": 17,
   "id": "df41269a",
   "metadata": {},
   "outputs": [
    {
     "data": {
      "text/plain": [
       "False"
      ]
     },
     "execution_count": 17,
     "metadata": {},
     "output_type": "execute_result"
    }
   ],
   "source": [
    "(df_test.isnull().sum(axis=0) > 0).max()"
   ]
  },
  {
   "cell_type": "markdown",
   "id": "4403117f",
   "metadata": {},
   "source": [
    "---\n",
    "## Convert the string columns into numerical values"
   ]
  },
  {
   "cell_type": "code",
   "execution_count": 18,
   "id": "b4814153",
   "metadata": {},
   "outputs": [
    {
     "name": "stdout",
     "output_type": "stream",
     "text": [
      "String columns coincide in both training and test databases\n"
     ]
    }
   ],
   "source": [
    "string_cols = df_train.select_dtypes('object').columns\n",
    "string_cols_test = df_test.select_dtypes('object').columns\n",
    "if np.min(string_cols == string_cols_test):\n",
    "    print('String columns coincide in both training and test databases')\n",
    "else:\n",
    "    print('String columns in training database DO NOT coincide with those in test database')"
   ]
  },
  {
   "cell_type": "markdown",
   "id": "fc219c33",
   "metadata": {},
   "source": [
    "### Extract bag-of-characters from the string columns in training database "
   ]
  },
  {
   "cell_type": "code",
   "execution_count": 19,
   "id": "a5a4f1ba",
   "metadata": {},
   "outputs": [
    {
     "name": "stdout",
     "output_type": "stream",
     "text": [
      "No string column in test database contains elements\n",
      "not found in the corresponding column in training\n"
     ]
    }
   ],
   "source": [
    "## List of words from each string column \n",
    "lists_of_words = []\n",
    "for col in string_cols:\n",
    "    lists_of_words.append(df_train[col].unique())\n",
    "## Split each word into its characters\n",
    "bag_of_charac = []\n",
    "max_word_length = []\n",
    "for word_list in lists_of_words:\n",
    "    ## Max word length for each column\n",
    "    max_word_length.append(np.max([len(w) for w in word_list]))\n",
    "    ## Gather all the characters for a given column \n",
    "    characters = [c for w in word_list for c in w]\n",
    "    boc = {}\n",
    "    ## Fill in the bag-of-characters \n",
    "    for c in characters:\n",
    "        if c not in boc:\n",
    "            boc[c]=len(boc)\n",
    "    bag_of_charac.append(boc)\n",
    "## Check that no string column in test database has new elements with respect the corresponding column \n",
    "## in the training database\n",
    "is_test_in_train = []    \n",
    "for i in range(len(string_cols)):\n",
    "    col = string_cols[i]\n",
    "    isit_in = True\n",
    "    for w in df_test[col].unique():\n",
    "        isit_in = min(isit_in, w in lists_of_words[i])\n",
    "    is_test_in_train.append(isit_in)\n",
    "\n",
    "if min(is_test_in_train):\n",
    "    print('No string column in test database contains elements\\nnot found in the corresponding column in training')\n",
    "else:\n",
    "    print('Some string columns in test database contain new elements')"
   ]
  },
  {
   "cell_type": "markdown",
   "id": "81f06064",
   "metadata": {},
   "source": [
    "### Convert the strings into numbers"
   ]
  },
  {
   "cell_type": "code",
   "execution_count": 20,
   "id": "76b5baca",
   "metadata": {},
   "outputs": [],
   "source": [
    "bag_of_words = []\n",
    "for i in range(len(lists_of_words)):\n",
    "    L = lists_of_words[i]\n",
    "    length = max_word_length[i]\n",
    "    boc = bag_of_charac[i]\n",
    "    bow = {}\n",
    "    for word in set(L):\n",
    "        value = np.array([boc[c] for c in word]) @ len(boc)**np.arange(len(word))\n",
    "        bow[word] = value\n",
    "    bag_of_words.append(bow)\n",
    "\n",
    "for i in range(len(string_cols)):\n",
    "    col = string_cols[i]\n",
    "    bow = bag_of_words[i]\n",
    "    for w,value in bow.items():\n",
    "        df_train[col][df_train[col] == w] = value\n",
    "        df_test[col][df_test[col] == w] = value"
   ]
  },
  {
   "cell_type": "markdown",
   "id": "c2979d9b",
   "metadata": {},
   "source": [
    "---\n",
    "## Computing mutual information between 'SalePrice' and the rest of columns"
   ]
  },
  {
   "cell_type": "code",
   "execution_count": 21,
   "id": "4e77a083",
   "metadata": {},
   "outputs": [
    {
     "name": "stdout",
     "output_type": "stream",
     "text": [
      "Computation time: 8.31 seconds\n"
     ]
    }
   ],
   "source": [
    "cols_to_check = list(set(list(df_train.columns))-set(['Id','SalePrice']))\n",
    "mutual_info = np.zeros(len(cols_to_check))\n",
    "\n",
    "tic = time.perf_counter()\n",
    "for i in range(len(cols_to_check)):\n",
    "    col = cols_to_check[i]\n",
    "    mutual_info[i] = MI((df_train[col]).to_numpy().reshape(-1,1),df_train['SalePrice'].to_numpy())\n",
    "toc = time.perf_counter()\n",
    "\n",
    "print(\"Computation time: {:.2f} seconds\".format(toc-tic))"
   ]
  },
  {
   "cell_type": "code",
   "execution_count": 22,
   "id": "46562349",
   "metadata": {
    "scrolled": true
   },
   "outputs": [
    {
     "data": {
      "image/png": "[encoded data removed]",
      "text/plain": [
       "<Figure size 432x288 with 1 Axes>"
      ]
     },
     "metadata": {
      "needs_background": "light"
     },
     "output_type": "display_data"
    }
   ],
   "source": [
    "plt.rc('xtick',labelsize = 15)\n",
    "plt.rc('ytick',labelsize = 15)\n",
    "plt.plot(np.arange(1,len(cols_to_check)+1) , mutual_info,'r-',linewidth = 1.5)\n",
    "plt.xlabel('column index',fontsize = 15)\n",
    "plt.ylabel('MI',fontsize = 15)\n",
    "plt.title('Mutual information between the different colums\\nand the SalePrice column', fontsize = 15)\n",
    "plt.show()"
   ]
  },
  {
   "cell_type": "markdown",
   "id": "03194d38",
   "metadata": {},
   "source": [
    "### Discard columns sharing very little information with SalePrice\n",
    "Discard those columns for which $MI \\leq 0.1$  "
   ]
  },
  {
   "cell_type": "code",
   "execution_count": 23,
   "id": "b7583244",
   "metadata": {},
   "outputs": [],
   "source": [
    "selected_cols = list(compress(cols_to_check , mutual_info > 0.1))"
   ]
  },
  {
   "cell_type": "markdown",
   "id": "348925ac",
   "metadata": {},
   "source": [
    "---\n",
    "## Extracting feature vectors from training and test databases"
   ]
  },
  {
   "cell_type": "markdown",
   "id": "0958363e",
   "metadata": {},
   "source": [
    "### x_train"
   ]
  },
  {
   "cell_type": "code",
   "execution_count": 24,
   "id": "3c1afc9c",
   "metadata": {},
   "outputs": [],
   "source": [
    "x_train = df_train[selected_cols].to_numpy().astype(float)"
   ]
  },
  {
   "cell_type": "markdown",
   "id": "63f6315f",
   "metadata": {},
   "source": [
    "### y_train"
   ]
  },
  {
   "cell_type": "code",
   "execution_count": 25,
   "id": "bbed0db4",
   "metadata": {},
   "outputs": [],
   "source": [
    "y_train = df_train['SalePrice'].to_numpy().astype(float)"
   ]
  },
  {
   "cell_type": "markdown",
   "id": "ff21ad92",
   "metadata": {},
   "source": [
    "### x_test"
   ]
  },
  {
   "cell_type": "code",
   "execution_count": 26,
   "id": "a57adbd9",
   "metadata": {},
   "outputs": [],
   "source": [
    "x_test = df_test[selected_cols].to_numpy().astype(float)"
   ]
  },
  {
   "cell_type": "markdown",
   "id": "d348aa6e",
   "metadata": {},
   "source": [
    "## Normalize the data"
   ]
  },
  {
   "cell_type": "code",
   "execution_count": 27,
   "id": "75db212b",
   "metadata": {},
   "outputs": [],
   "source": [
    "x_train = x_train / x_train.max(axis=0)\n",
    "x_test = x_test / x_test.max(axis=0)"
   ]
  },
  {
   "cell_type": "markdown",
   "id": "6c5ff305",
   "metadata": {},
   "source": [
    "---\n",
    "## PCA analysis"
   ]
  },
  {
   "cell_type": "code",
   "execution_count": 28,
   "id": "a155e1f6",
   "metadata": {},
   "outputs": [],
   "source": [
    "pca = PCA(n_components=10)\n",
    "# Centering the training data\n",
    "x_cent = (x_train.T-x_train.mean(axis=1)).T\n",
    "pca.fit(x_cent)\n",
    "# Extract the PC of the centered data\n",
    "pcx_train = pca.transform(x_cent)\n",
    "\n",
    "# Centering the test data\n",
    "x_cent = (x_test.T-x_test.mean(axis=1)).T\n",
    "pca.fit(x_cent)\n",
    "# Extract the PC of the centered data\n",
    "pcx_test = pca.transform(x_cent)"
   ]
  },
  {
   "cell_type": "markdown",
   "id": "22279ac9",
   "metadata": {},
   "source": [
    "### PCA plotting function"
   ]
  },
  {
   "cell_type": "code",
   "execution_count": 29,
   "id": "c8ef288d",
   "metadata": {},
   "outputs": [],
   "source": [
    "def pc_plot(data,n_pc_comp=2):\n",
    "    \"\"\"\n",
    "    Generates the scatter plot of the PCA transformed data\n",
    "    Args:\n",
    "        data : numpy array of shape (n_samples,dim_feature)\n",
    "               Containd the PC decomposition of the (centered)\n",
    "               original data\n",
    "        n_pc_comp : integer. \n",
    "                    Number of principal components to plot\n",
    "                    Default n_pc_comp = 2\n",
    "    \"\"\"\n",
    "    \n",
    "    if n_pc_comp not in [2,3]:\n",
    "        n_pc_comp = 2\n",
    "    \n",
    "    title = 'Principal components of training feature vectors'\n",
    "    \n",
    "    plt.rc('xtick',labelsize = 15)\n",
    "    plt.rc('ytick',labelsize = 15)\n",
    "    mean_price = df_train['SalePrice'].mean()\n",
    "    color_red = df_train['SalePrice'] > mean_price # high saling price\n",
    "    color_blue = np.logical_not(color_red) # low saling price \n",
    "    \n",
    "    MS = 30 # Marker Size\n",
    "    \n",
    "    if n_pc_comp == 2:\n",
    "        \n",
    "        ## Plot data with label: no extra baggage\n",
    "\n",
    "        plt.scatter(data[color_blue,0],data[color_blue,1],\n",
    "                  s=MS,c = 'b',marker = '.')\n",
    "\n",
    "        ## Plot data with label: extra baggage\n",
    "        plt.scatter(data[color_red,0],data[color_red,1],\n",
    "                  s=MS,c = 'r',marker = '.')\n",
    "\n",
    "        plt.legend(['low price','high price'])\n",
    "\n",
    "        plt.xlabel('pc1', fontsize=20)\n",
    "        plt.ylabel('pc2', fontsize=20)\n",
    "        plt.title(title,fontsize=20)\n",
    "        plt.show()\n",
    "    else:\n",
    "        figsize = (30,30)\n",
    "        fig = plt.figure()\n",
    "        ax = Axes3D(fig)\n",
    "\n",
    "        ## Plot data with label: no extra baggage\n",
    "        ax.scatter(data[color_blue,0],data[color_blue,1],data[color_blue,2],\n",
    "                   c = 'b',marker = '.')\n",
    "\n",
    "        ## Plot data with label: extra baggage\n",
    "        plt.scatter(data[color_red,0],data[color_red,1],data[color_red,2],\n",
    "                    c = 'r',marker = '.')\n",
    "\n",
    "        ax.legend(['low price','high price'])\n",
    "\n",
    "        ax.set_xlabel('pc1', fontsize=20)\n",
    "        ax.set_ylabel('pc2', fontsize=20)\n",
    "        ax.set_zlabel('pc3', fontsize=20)\n",
    "        ax.set_title(title,fontsize=20)\n",
    "        plt.show()\n",
    "\n"
   ]
  },
  {
   "cell_type": "markdown",
   "id": "7e225d09",
   "metadata": {},
   "source": [
    "### Plotting the first 2 principal components"
   ]
  },
  {
   "cell_type": "code",
   "execution_count": 30,
   "id": "a343e905",
   "metadata": {},
   "outputs": [
    {
     "data": {
      "image/png": "[encoded data removed]",
      "text/plain": [
       "<Figure size 432x288 with 1 Axes>"
      ]
     },
     "metadata": {
      "needs_background": "light"
     },
     "output_type": "display_data"
    }
   ],
   "source": [
    "pc_plot(pcx_train)"
   ]
  },
  {
   "cell_type": "markdown",
   "id": "6d79b46c",
   "metadata": {},
   "source": [
    "### Plotting the first 3 pricipal components"
   ]
  },
  {
   "cell_type": "code",
   "execution_count": 31,
   "id": "29f2eac1",
   "metadata": {},
   "outputs": [
    {
     "name": "stderr",
     "output_type": "stream",
     "text": [
      "/Users/daviddiegocastro/opt/anaconda3/lib/python3.8/site-packages/matplotlib/collections.py:922: RuntimeWarning: invalid value encountered in sqrt\n",
      "  scale = np.sqrt(self._sizes) * dpi / 72.0 * self._factor\n"
     ]
    },
    {
     "data": {
      "image/png": "[encoded data removed]",
      "text/plain": [
       "<Figure size 432x288 with 1 Axes>"
      ]
     },
     "metadata": {
      "needs_background": "light"
     },
     "output_type": "display_data"
    }
   ],
   "source": [
    "pc_plot(pcx_train, n_pc_comp = 3)"
   ]
  },
  {
   "cell_type": "markdown",
   "id": "3c7abc66",
   "metadata": {},
   "source": [
    "---\n",
    "# Fitting the model using a Random Forest Regression"
   ]
  },
  {
   "cell_type": "markdown",
   "id": "a3a12efd",
   "metadata": {},
   "source": [
    "## Setting the method\n",
    "The options for the method are: \n",
    "* method = 'feat'\n",
    "    * The fitting is preformed on the whole feature vector\n",
    "* method = 'pca'\n",
    "    * The fitting is preformed on the PCA reduction\n",
    "    * n_pc : Number of principal components to use in the fit"
   ]
  },
  {
   "cell_type": "markdown",
   "id": "7e00341c",
   "metadata": {},
   "source": [
    "## Performance metric\n",
    "The Root Mean Squared Error corresponding to the logarithm of the values, that is:\n",
    "\n",
    "$$RMSE_{log}(y,\\hat y) = \\sqrt{\\frac{1}{n} \\sum_{i=0}^{n-1} (\\ln(y_i)-\\ln(\\hat y_i))^2}$$\n",
    "\n",
    "Numerically, we will consider $\\ln(max(|y_i|,\\epsilon))-\\ln(max(|\\hat y_i|,\\epsilon))$ for $\\epsilon > 0$ but very small, to avoid taking the logarithm of negative values or very small values."
   ]
  },
  {
   "cell_type": "code",
   "execution_count": 32,
   "id": "88fde34d",
   "metadata": {},
   "outputs": [],
   "source": [
    "def rmse_log(y,y_pred,\n",
    "            eps=10**(-8)):\n",
    "    \"\"\"\n",
    "    Args:\n",
    "       y : numpy array of size (n,)\n",
    "       y_pred : numpy array of size (n,)\n",
    "       eps : float. Small parameter to deal with \n",
    "             possible vaniching values\n",
    "             Dafault : 1e**(-8)\n",
    "       \n",
    "    Returns:\n",
    "       RMSE_log\n",
    "    \"\"\"\n",
    "    \n",
    "    y_abs = np.abs(y)\n",
    "    y_pred_abs = np.abs(y_pred)\n",
    "    y_abs[y_abs < eps] = eps\n",
    "    y_pred_abs[y_pred_abs < eps] = eps\n",
    "    \n",
    "    return MSE(np.log(y_abs),np.log(y_pred_abs),squared = False)\n",
    "    "
   ]
  },
  {
   "cell_type": "markdown",
   "id": "40cca054",
   "metadata": {},
   "source": [
    "## Extracting the training sample\n",
    "This function extracts a random sample from the training data of size sample_size.\n",
    "In addition: \n",
    "\n",
    "    * If method = 'feat', the sample consists of full feature vectors.\n",
    "    * If method = 'pca', the sample consists of the first n_pc components from the PCA reduction.  \n",
    "\n"
   ]
  },
  {
   "cell_type": "code",
   "execution_count": 33,
   "id": "1bc63305",
   "metadata": {},
   "outputs": [],
   "source": [
    "def extract_sample(sample_size, method = 'feat', n_pc = 3):\n",
    "    \"\"\"\n",
    "    Extracts a sample from the training data\n",
    "    \n",
    "    Args:\n",
    "        sample_size : integer. The size of the sample\n",
    "        method : string. If method = 'feat' : extracts sample from x_train\n",
    "                         If method = 'pca' : extracts sample from the pcx_train\n",
    "                         Default : method = 'feat'\n",
    "        n_pc : integer. Number of principal components to use\n",
    "                        when method = 'pca'\n",
    "                        Default : npc = 3\n",
    "                         \n",
    "    Returns:\n",
    "        tuple : (sample , y_sample)\n",
    "                sample : 2d numpy array containing the training sample\n",
    "                y_sample : 1d numpy array containing the corresponding labels\n",
    "                 \n",
    "    \"\"\"\n",
    "    ## Get a copy of the suitable data according the method\n",
    "    if method == 'feat':\n",
    "        sample = x_train.copy()\n",
    "    else:\n",
    "        sample = pcx_train[:,:n_pc].copy()\n",
    "    \n",
    "    y_sample = y_train.copy()\n",
    "    \n",
    "    ## Get a permutation of the training feature vector indices\n",
    "    perm = np.arange(x_train.shape[0])\n",
    "    np.random.shuffle(perm)\n",
    "    \n",
    "    ## Sample the data\n",
    "    sample = sample[perm]\n",
    "    y_sample = y_sample[perm]\n",
    "\n",
    "    sample = sample[:sample_size]\n",
    "    y_sample = y_sample[:sample_size]\n",
    "    \n",
    "    return sample, y_sample "
   ]
  },
  {
   "cell_type": "markdown",
   "id": "7469f1ac",
   "metadata": {},
   "source": [
    "## Function to optimize the PC reduction"
   ]
  },
  {
   "cell_type": "code",
   "execution_count": 34,
   "id": "4ea44f5a",
   "metadata": {},
   "outputs": [],
   "source": [
    "def pca_opt(sample_size):\n",
    "    ## Principal components\n",
    "    n_pcs = np.arange(2,pcx_train.shape[1]+1)\n",
    "    rmse = []\n",
    "    \n",
    "    tic = time.perf_counter()\n",
    "    for n in n_pcs:\n",
    "        sample, y_sample = extract_sample(sample_size,\n",
    "                                         method = 'pca', n_pc = n)\n",
    "        \n",
    "        regress = rfrg(random_state=0)\n",
    "        regress.fit(sample,y_sample)\n",
    "        pred = regress.predict(sample)\n",
    "        rmse.append(rmse_log(y_sample,pred))\n",
    "    \n",
    "    best_n_pc = n_pcs[np.argmin(rmse)]\n",
    "    \n",
    "    title = 'RMSE-log vs number of pc'\n",
    "    plt.rc('xtick',labelsize = 15)\n",
    "    plt.rc('ytick',labelsize = 15)\n",
    "    plt.plot(n_pcs,rmse,'r-',linewidth = 1.5)\n",
    "    plt.xlabel('number of pc',fontsize = 15)\n",
    "    plt.ylabel('RMSE-log',fontsize = 15)\n",
    "    plt.title(title,fontsize = 15)\n",
    "    plt.show()\n",
    "    toc = time.perf_counter()\n",
    "    \n",
    "    print(\"Computation time: {:.2f} seconds\\n\".format(toc-tic))\n",
    "    print(\"Best performing number of pc: {}\".format(best_n_pc))\n",
    "    return best_n_pc"
   ]
  },
  {
   "cell_type": "markdown",
   "id": "9af2f899",
   "metadata": {},
   "source": [
    "## Function to fit the model using a Random Forest Regression"
   ]
  },
  {
   "cell_type": "code",
   "execution_count": 35,
   "id": "5f5c81c6",
   "metadata": {},
   "outputs": [],
   "source": [
    "def fit_data(sample_size, method = 'feat',\n",
    "             n_pc = 3):\n",
    "    \"\"\"\n",
    "    Fits the data using the NuSVC classifier, using\n",
    "    RBF as kernel\n",
    "    \n",
    "    Args:\n",
    "        sample_size : integer. Size of the training sample \n",
    "        method : string. method for extracting the training sample\n",
    "        n_pc : integer. Number of principal components to use\n",
    "                        when method = 'pca'\n",
    "    Returns:\n",
    "        regress :         the fitted regressor\n",
    "        predictions : numpy array of shape (n_bookings ,)\n",
    "                      Contains the extra baggage predictions\n",
    "                      for the test data\n",
    "    \"\"\"\n",
    "    \n",
    "    ## Extract the sample\n",
    "    sample, y_sample = extract_sample(sample_size,\n",
    "                                    method = method, n_pc = n_pc)\n",
    "    \n",
    "    ## Do the fitting\n",
    "\n",
    "    tic = time.perf_counter()\n",
    "\n",
    "    regress = rfrg(random_state=0)\n",
    "    regress.fit(sample,y_sample)\n",
    "\n",
    "    ## Obtain predictions for the test data\n",
    "\n",
    "    if method == 'feat':\n",
    "        predictions = regress.predict(x_test)\n",
    "    else:\n",
    "        predictions = regress.predict(pcx_test[:,:n_pc])\n",
    "    \n",
    "    ## Compute the Mean Absolute Percentage Error for the training sample \n",
    "\n",
    "    pred = regress.predict(sample)\n",
    "    rmse = rmse_log(y_sample,pred)\n",
    "    toc = time.perf_counter()\n",
    "\n",
    "    print(\"Computation time: {:.2f} seconds\\n\".format(toc-tic))  \n",
    "    print(\"The Root-Mean-Squared-Error-log for the training sample is {:.3f}\".format(rmse))\n",
    "    \n",
    "    \n",
    "    return regress, predictions  "
   ]
  },
  {
   "cell_type": "markdown",
   "id": "e562ec60",
   "metadata": {},
   "source": [
    "---\n",
    "## Optimize the number of principal components"
   ]
  },
  {
   "cell_type": "code",
   "execution_count": 36,
   "id": "ec845992",
   "metadata": {},
   "outputs": [
    {
     "data": {
      "image/png": "[encoded data removed]",
      "text/plain": [
       "<Figure size 432x288 with 1 Axes>"
      ]
     },
     "metadata": {
      "needs_background": "light"
     },
     "output_type": "display_data"
    },
    {
     "name": "stdout",
     "output_type": "stream",
     "text": [
      "Computation time: 3.81 seconds\n",
      "\n",
      "Best performing number of pc: 10\n"
     ]
    }
   ],
   "source": [
    "n_pc = pca_opt(int(0.8*pcx_train.shape[0]))"
   ]
  },
  {
   "cell_type": "markdown",
   "id": "b6c9752f",
   "metadata": {},
   "source": [
    "## Fit the model on the whole feature vectors"
   ]
  },
  {
   "cell_type": "code",
   "execution_count": 37,
   "id": "821f4ee7",
   "metadata": {},
   "outputs": [
    {
     "name": "stdout",
     "output_type": "stream",
     "text": [
      "Computation time: 1.04 seconds\n",
      "\n",
      "The Root-Mean-Squared-Error-log for the training sample is 0.062\n"
     ]
    }
   ],
   "source": [
    "model_feat, predictions_feat = fit_data(int(0.8*x_train.shape[0]))"
   ]
  },
  {
   "cell_type": "markdown",
   "id": "013c5018",
   "metadata": {},
   "source": [
    "### Validate the fitting\n",
    "On the whole training set (whose size is comparable to that of the test set)"
   ]
  },
  {
   "cell_type": "code",
   "execution_count": 38,
   "id": "46040ed0",
   "metadata": {},
   "outputs": [
    {
     "name": "stdout",
     "output_type": "stream",
     "text": [
      "FEAT. RMSE-log for the validation sample: 0.091\n"
     ]
    }
   ],
   "source": [
    "## Extract the sample\n",
    "sample, y_sample = extract_sample(int(x_train.shape[0]))\n",
    "y_val = model_feat.predict(sample)\n",
    "print(\"FEAT. RMSE-log for the validation sample: {:.3f}\".format(rmse_log(y_sample,y_val)))"
   ]
  },
  {
   "cell_type": "markdown",
   "id": "e0908f39",
   "metadata": {},
   "source": [
    "## Fit the model using the PCA reduction"
   ]
  },
  {
   "cell_type": "code",
   "execution_count": 39,
   "id": "dc0390d0",
   "metadata": {},
   "outputs": [
    {
     "name": "stdout",
     "output_type": "stream",
     "text": [
      "Computation time: 0.62 seconds\n",
      "\n",
      "The Root-Mean-Squared-Error-log for the training sample is 0.078\n"
     ]
    }
   ],
   "source": [
    "model_pca, predictions_pca = fit_data(int(0.8*x_train.shape[0]),\n",
    "                                     method = 'pca', n_pc = n_pc)"
   ]
  },
  {
   "cell_type": "markdown",
   "id": "381c3ca6",
   "metadata": {},
   "source": [
    "### Valdate the fitting\n",
    "On the whole training set (whose size is comparable to that of the test set)"
   ]
  },
  {
   "cell_type": "code",
   "execution_count": 41,
   "id": "3360c955",
   "metadata": {},
   "outputs": [
    {
     "name": "stdout",
     "output_type": "stream",
     "text": [
      "PCA. RMSE-log for the validation sample: 0.113\n"
     ]
    }
   ],
   "source": [
    "sample, y_sample = extract_sample(int(x_train.shape[0]),\n",
    "                                 method = 'pca', n_pc = n_pc)\n",
    "y_val = model_pca.predict(sample)\n",
    "print(\"PCA. RMSE-log for the validation sample: {:.3f}\".format(rmse_log(y_sample,y_val)))"
   ]
  },
  {
   "cell_type": "markdown",
   "id": "56700743",
   "metadata": {},
   "source": [
    "---\n",
    "## Generate the CSV file with the sale price predictions \n",
    "(Using the whole feature vector)"
   ]
  },
  {
   "cell_type": "code",
   "execution_count": 43,
   "id": "88e4a7da",
   "metadata": {},
   "outputs": [],
   "source": [
    "SalePrice_Predictions = pd.DataFrame(df_test['Id'])\n",
    "SalePrice_Predictions['SalePrice'] = predictions_feat\n",
    "SalePrice_Predictions.to_csv(path_or_buf='SalePricePredictions.csv',index=False)"
   ]
  },
  {
   "cell_type": "code",
   "execution_count": null,
   "id": "445249ab",
   "metadata": {},
   "outputs": [],
   "source": []
  }
 ],
 "metadata": {
  "kernelspec": {
   "display_name": "Python 3",
   "language": "python",
   "name": "python3"
  },
  "language_info": {
   "codemirror_mode": {
    "name": "ipython",
    "version": 3
   },
   "file_extension": ".py",
   "mimetype": "text/x-python",
   "name": "python",
   "nbconvert_exporter": "python",
   "pygments_lexer": "ipython3",
   "version": "3.8.3"
  }
 },
 "nbformat": 4,
 "nbformat_minor": 5
}
