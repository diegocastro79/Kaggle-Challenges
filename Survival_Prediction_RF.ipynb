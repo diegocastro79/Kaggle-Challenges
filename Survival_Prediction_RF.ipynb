{
 "cells": [
  {
   "cell_type": "markdown",
   "id": "6bd4d13e",
   "metadata": {},
   "source": [
    "# The present notebook contains code for the Titanic Kaggle challenge: [www.kaggle.com/c/titanic/](https://www.kaggle.com/c/titanic/)\n",
    "The challenge consists in predicting the survival of the Titanic passengers.   \n",
    "The data has been split into training and test data\n",
    "\n",
    "    * Training: About 900 passengers whose survival is given.\n",
    "    * Test: Over 400 passengers for whom we must predict the tragedy survival.   \n",
    "## The problem is addressed using a Random Forest Classifier"
   ]
  },
  {
   "cell_type": "markdown",
   "id": "53af66ce",
   "metadata": {},
   "source": [
    "---\n",
    "## Importing libraries and modules"
   ]
  },
  {
   "cell_type": "code",
   "execution_count": 1,
   "id": "1a7496fe",
   "metadata": {},
   "outputs": [],
   "source": [
    "import numpy as np\n",
    "import pandas as pd \n",
    "pd.options.mode.chained_assignment = None\n",
    "# so that we do not receive warnings every time\n",
    "# we overwrite dataframes \n",
    "import seaborn as sb \n",
    "from itertools import compress \n",
    "import time\n",
    "import matplotlib.pyplot as plt \n",
    "from mpl_toolkits.mplot3d import Axes3D\n",
    "\n",
    "from sklearn.ensemble import RandomForestClassifier as rfc\n",
    "from sklearn.decomposition import PCA"
   ]
  },
  {
   "cell_type": "markdown",
   "id": "55829136",
   "metadata": {},
   "source": [
    "## Upload the data"
   ]
  },
  {
   "cell_type": "code",
   "execution_count": 2,
   "id": "f0f0ee6d",
   "metadata": {},
   "outputs": [],
   "source": [
    "import os\n",
    "path = os.getcwd()\n",
    "df_train = pd.read_csv(path+'/train.csv')\n",
    "df_test = pd.read_csv(path+'/test.csv')"
   ]
  },
  {
   "cell_type": "markdown",
   "id": "343d7611",
   "metadata": {},
   "source": [
    "## Having a quick look at the data "
   ]
  },
  {
   "cell_type": "code",
   "execution_count": 3,
   "id": "6493b533",
   "metadata": {},
   "outputs": [
    {
     "data": {
      "text/html": [
       "<div>\n",
       "<style scoped>\n",
       "    .dataframe tbody tr th:only-of-type {\n",
       "        vertical-align: middle;\n",
       "    }\n",
       "\n",
       "    .dataframe tbody tr th {\n",
       "        vertical-align: top;\n",
       "    }\n",
       "\n",
       "    .dataframe thead th {\n",
       "        text-align: right;\n",
       "    }\n",
       "</style>\n",
       "<table border=\"1\" class=\"dataframe\">\n",
       "  <thead>\n",
       "    <tr style=\"text-align: right;\">\n",
       "      <th></th>\n",
       "      <th>PassengerId</th>\n",
       "      <th>Survived</th>\n",
       "      <th>Pclass</th>\n",
       "      <th>Name</th>\n",
       "      <th>Sex</th>\n",
       "      <th>Age</th>\n",
       "      <th>SibSp</th>\n",
       "      <th>Parch</th>\n",
       "      <th>Ticket</th>\n",
       "      <th>Fare</th>\n",
       "      <th>Cabin</th>\n",
       "      <th>Embarked</th>\n",
       "    </tr>\n",
       "  </thead>\n",
       "  <tbody>\n",
       "    <tr>\n",
       "      <th>0</th>\n",
       "      <td>1</td>\n",
       "      <td>0</td>\n",
       "      <td>3</td>\n",
       "      <td>Braund, Mr. Owen Harris</td>\n",
       "      <td>male</td>\n",
       "      <td>22.0</td>\n",
       "      <td>1</td>\n",
       "      <td>0</td>\n",
       "      <td>A/5 21171</td>\n",
       "      <td>7.2500</td>\n",
       "      <td>NaN</td>\n",
       "      <td>S</td>\n",
       "    </tr>\n",
       "    <tr>\n",
       "      <th>1</th>\n",
       "      <td>2</td>\n",
       "      <td>1</td>\n",
       "      <td>1</td>\n",
       "      <td>Cumings, Mrs. John Bradley (Florence Briggs Th...</td>\n",
       "      <td>female</td>\n",
       "      <td>38.0</td>\n",
       "      <td>1</td>\n",
       "      <td>0</td>\n",
       "      <td>PC 17599</td>\n",
       "      <td>71.2833</td>\n",
       "      <td>C85</td>\n",
       "      <td>C</td>\n",
       "    </tr>\n",
       "    <tr>\n",
       "      <th>2</th>\n",
       "      <td>3</td>\n",
       "      <td>1</td>\n",
       "      <td>3</td>\n",
       "      <td>Heikkinen, Miss. Laina</td>\n",
       "      <td>female</td>\n",
       "      <td>26.0</td>\n",
       "      <td>0</td>\n",
       "      <td>0</td>\n",
       "      <td>STON/O2. 3101282</td>\n",
       "      <td>7.9250</td>\n",
       "      <td>NaN</td>\n",
       "      <td>S</td>\n",
       "    </tr>\n",
       "    <tr>\n",
       "      <th>3</th>\n",
       "      <td>4</td>\n",
       "      <td>1</td>\n",
       "      <td>1</td>\n",
       "      <td>Futrelle, Mrs. Jacques Heath (Lily May Peel)</td>\n",
       "      <td>female</td>\n",
       "      <td>35.0</td>\n",
       "      <td>1</td>\n",
       "      <td>0</td>\n",
       "      <td>113803</td>\n",
       "      <td>53.1000</td>\n",
       "      <td>C123</td>\n",
       "      <td>S</td>\n",
       "    </tr>\n",
       "    <tr>\n",
       "      <th>4</th>\n",
       "      <td>5</td>\n",
       "      <td>0</td>\n",
       "      <td>3</td>\n",
       "      <td>Allen, Mr. William Henry</td>\n",
       "      <td>male</td>\n",
       "      <td>35.0</td>\n",
       "      <td>0</td>\n",
       "      <td>0</td>\n",
       "      <td>373450</td>\n",
       "      <td>8.0500</td>\n",
       "      <td>NaN</td>\n",
       "      <td>S</td>\n",
       "    </tr>\n",
       "  </tbody>\n",
       "</table>\n",
       "</div>"
      ],
      "text/plain": [
       "   PassengerId  Survived  Pclass  \\\n",
       "0            1         0       3   \n",
       "1            2         1       1   \n",
       "2            3         1       3   \n",
       "3            4         1       1   \n",
       "4            5         0       3   \n",
       "\n",
       "                                                Name     Sex   Age  SibSp  \\\n",
       "0                            Braund, Mr. Owen Harris    male  22.0      1   \n",
       "1  Cumings, Mrs. John Bradley (Florence Briggs Th...  female  38.0      1   \n",
       "2                             Heikkinen, Miss. Laina  female  26.0      0   \n",
       "3       Futrelle, Mrs. Jacques Heath (Lily May Peel)  female  35.0      1   \n",
       "4                           Allen, Mr. William Henry    male  35.0      0   \n",
       "\n",
       "   Parch            Ticket     Fare Cabin Embarked  \n",
       "0      0         A/5 21171   7.2500   NaN        S  \n",
       "1      0          PC 17599  71.2833   C85        C  \n",
       "2      0  STON/O2. 3101282   7.9250   NaN        S  \n",
       "3      0            113803  53.1000  C123        S  \n",
       "4      0            373450   8.0500   NaN        S  "
      ]
     },
     "execution_count": 3,
     "metadata": {},
     "output_type": "execute_result"
    }
   ],
   "source": [
    "df_train.head()"
   ]
  },
  {
   "cell_type": "code",
   "execution_count": 4,
   "id": "1198263a",
   "metadata": {},
   "outputs": [
    {
     "data": {
      "text/html": [
       "<div>\n",
       "<style scoped>\n",
       "    .dataframe tbody tr th:only-of-type {\n",
       "        vertical-align: middle;\n",
       "    }\n",
       "\n",
       "    .dataframe tbody tr th {\n",
       "        vertical-align: top;\n",
       "    }\n",
       "\n",
       "    .dataframe thead th {\n",
       "        text-align: right;\n",
       "    }\n",
       "</style>\n",
       "<table border=\"1\" class=\"dataframe\">\n",
       "  <thead>\n",
       "    <tr style=\"text-align: right;\">\n",
       "      <th></th>\n",
       "      <th>PassengerId</th>\n",
       "      <th>Pclass</th>\n",
       "      <th>Name</th>\n",
       "      <th>Sex</th>\n",
       "      <th>Age</th>\n",
       "      <th>SibSp</th>\n",
       "      <th>Parch</th>\n",
       "      <th>Ticket</th>\n",
       "      <th>Fare</th>\n",
       "      <th>Cabin</th>\n",
       "      <th>Embarked</th>\n",
       "    </tr>\n",
       "  </thead>\n",
       "  <tbody>\n",
       "    <tr>\n",
       "      <th>0</th>\n",
       "      <td>892</td>\n",
       "      <td>3</td>\n",
       "      <td>Kelly, Mr. James</td>\n",
       "      <td>male</td>\n",
       "      <td>34.5</td>\n",
       "      <td>0</td>\n",
       "      <td>0</td>\n",
       "      <td>330911</td>\n",
       "      <td>7.8292</td>\n",
       "      <td>NaN</td>\n",
       "      <td>Q</td>\n",
       "    </tr>\n",
       "    <tr>\n",
       "      <th>1</th>\n",
       "      <td>893</td>\n",
       "      <td>3</td>\n",
       "      <td>Wilkes, Mrs. James (Ellen Needs)</td>\n",
       "      <td>female</td>\n",
       "      <td>47.0</td>\n",
       "      <td>1</td>\n",
       "      <td>0</td>\n",
       "      <td>363272</td>\n",
       "      <td>7.0000</td>\n",
       "      <td>NaN</td>\n",
       "      <td>S</td>\n",
       "    </tr>\n",
       "    <tr>\n",
       "      <th>2</th>\n",
       "      <td>894</td>\n",
       "      <td>2</td>\n",
       "      <td>Myles, Mr. Thomas Francis</td>\n",
       "      <td>male</td>\n",
       "      <td>62.0</td>\n",
       "      <td>0</td>\n",
       "      <td>0</td>\n",
       "      <td>240276</td>\n",
       "      <td>9.6875</td>\n",
       "      <td>NaN</td>\n",
       "      <td>Q</td>\n",
       "    </tr>\n",
       "    <tr>\n",
       "      <th>3</th>\n",
       "      <td>895</td>\n",
       "      <td>3</td>\n",
       "      <td>Wirz, Mr. Albert</td>\n",
       "      <td>male</td>\n",
       "      <td>27.0</td>\n",
       "      <td>0</td>\n",
       "      <td>0</td>\n",
       "      <td>315154</td>\n",
       "      <td>8.6625</td>\n",
       "      <td>NaN</td>\n",
       "      <td>S</td>\n",
       "    </tr>\n",
       "    <tr>\n",
       "      <th>4</th>\n",
       "      <td>896</td>\n",
       "      <td>3</td>\n",
       "      <td>Hirvonen, Mrs. Alexander (Helga E Lindqvist)</td>\n",
       "      <td>female</td>\n",
       "      <td>22.0</td>\n",
       "      <td>1</td>\n",
       "      <td>1</td>\n",
       "      <td>3101298</td>\n",
       "      <td>12.2875</td>\n",
       "      <td>NaN</td>\n",
       "      <td>S</td>\n",
       "    </tr>\n",
       "  </tbody>\n",
       "</table>\n",
       "</div>"
      ],
      "text/plain": [
       "   PassengerId  Pclass                                          Name     Sex  \\\n",
       "0          892       3                              Kelly, Mr. James    male   \n",
       "1          893       3              Wilkes, Mrs. James (Ellen Needs)  female   \n",
       "2          894       2                     Myles, Mr. Thomas Francis    male   \n",
       "3          895       3                              Wirz, Mr. Albert    male   \n",
       "4          896       3  Hirvonen, Mrs. Alexander (Helga E Lindqvist)  female   \n",
       "\n",
       "    Age  SibSp  Parch   Ticket     Fare Cabin Embarked  \n",
       "0  34.5      0      0   330911   7.8292   NaN        Q  \n",
       "1  47.0      1      0   363272   7.0000   NaN        S  \n",
       "2  62.0      0      0   240276   9.6875   NaN        Q  \n",
       "3  27.0      0      0   315154   8.6625   NaN        S  \n",
       "4  22.0      1      1  3101298  12.2875   NaN        S  "
      ]
     },
     "execution_count": 4,
     "metadata": {},
     "output_type": "execute_result"
    }
   ],
   "source": [
    "df_test.head()"
   ]
  },
  {
   "cell_type": "code",
   "execution_count": 5,
   "id": "6ef85ec9",
   "metadata": {},
   "outputs": [
    {
     "name": "stdout",
     "output_type": "stream",
     "text": [
      "<class 'pandas.core.frame.DataFrame'>\n",
      "RangeIndex: 891 entries, 0 to 890\n",
      "Data columns (total 12 columns):\n",
      " #   Column       Non-Null Count  Dtype  \n",
      "---  ------       --------------  -----  \n",
      " 0   PassengerId  891 non-null    int64  \n",
      " 1   Survived     891 non-null    int64  \n",
      " 2   Pclass       891 non-null    int64  \n",
      " 3   Name         891 non-null    object \n",
      " 4   Sex          891 non-null    object \n",
      " 5   Age          714 non-null    float64\n",
      " 6   SibSp        891 non-null    int64  \n",
      " 7   Parch        891 non-null    int64  \n",
      " 8   Ticket       891 non-null    object \n",
      " 9   Fare         891 non-null    float64\n",
      " 10  Cabin        204 non-null    object \n",
      " 11  Embarked     889 non-null    object \n",
      "dtypes: float64(2), int64(5), object(5)\n",
      "memory usage: 83.7+ KB\n"
     ]
    }
   ],
   "source": [
    "df_train.info()"
   ]
  },
  {
   "cell_type": "code",
   "execution_count": 6,
   "id": "84aaa7da",
   "metadata": {},
   "outputs": [
    {
     "name": "stdout",
     "output_type": "stream",
     "text": [
      "<class 'pandas.core.frame.DataFrame'>\n",
      "RangeIndex: 418 entries, 0 to 417\n",
      "Data columns (total 11 columns):\n",
      " #   Column       Non-Null Count  Dtype  \n",
      "---  ------       --------------  -----  \n",
      " 0   PassengerId  418 non-null    int64  \n",
      " 1   Pclass       418 non-null    int64  \n",
      " 2   Name         418 non-null    object \n",
      " 3   Sex          418 non-null    object \n",
      " 4   Age          332 non-null    float64\n",
      " 5   SibSp        418 non-null    int64  \n",
      " 6   Parch        418 non-null    int64  \n",
      " 7   Ticket       418 non-null    object \n",
      " 8   Fare         417 non-null    float64\n",
      " 9   Cabin        91 non-null     object \n",
      " 10  Embarked     418 non-null    object \n",
      "dtypes: float64(2), int64(4), object(5)\n",
      "memory usage: 36.0+ KB\n"
     ]
    }
   ],
   "source": [
    "df_test.info()"
   ]
  },
  {
   "cell_type": "markdown",
   "id": "1a2e2b12",
   "metadata": {},
   "source": [
    "## Survival rate by sex"
   ]
  },
  {
   "cell_type": "code",
   "execution_count": 7,
   "id": "3b7208ef",
   "metadata": {},
   "outputs": [
    {
     "data": {
      "text/plain": [
       "Sex     Survived\n",
       "female  0           25.796178\n",
       "        1           74.203822\n",
       "male    0           81.109185\n",
       "        1           18.890815\n",
       "dtype: float64"
      ]
     },
     "execution_count": 7,
     "metadata": {},
     "output_type": "execute_result"
    }
   ],
   "source": [
    "df_train.groupby(['Sex','Survived']).Survived.count()*100 / df_train.groupby(['Sex']).Sex.count()"
   ]
  },
  {
   "cell_type": "markdown",
   "id": "c7ec02f1",
   "metadata": {},
   "source": [
    "## Survival rate by class"
   ]
  },
  {
   "cell_type": "code",
   "execution_count": 8,
   "id": "23f80206",
   "metadata": {},
   "outputs": [
    {
     "data": {
      "text/plain": [
       "Pclass  Survived\n",
       "1       0           37.037037\n",
       "        1           62.962963\n",
       "2       0           52.717391\n",
       "        1           47.282609\n",
       "3       0           75.763747\n",
       "        1           24.236253\n",
       "dtype: float64"
      ]
     },
     "execution_count": 8,
     "metadata": {},
     "output_type": "execute_result"
    }
   ],
   "source": [
    "df_train.groupby(['Pclass','Survived']).Survived.count()*100 / df_train.groupby(['Pclass']).Pclass.count()"
   ]
  },
  {
   "cell_type": "markdown",
   "id": "cc24f17b",
   "metadata": {},
   "source": [
    "## Unique values and frequency in 'Cabin' column"
   ]
  },
  {
   "cell_type": "code",
   "execution_count": 9,
   "id": "31323c34",
   "metadata": {},
   "outputs": [
    {
     "name": "stdout",
     "output_type": "stream",
     "text": [
      "Most common cabin type : G6\n"
     ]
    }
   ],
   "source": [
    "df = pd.DataFrame({'Unique' : df_train['Cabin'][df_train.Cabin.notnull()].unique()})\n",
    "df['Count'] = np.zeros(df.shape[0])\n",
    "for i in range(df.shape[0]):\n",
    "    df['Count'][i] = (df_train['Cabin'] == df['Unique'][i]).sum()\n",
    "\n",
    "cab = df['Unique'][np.argmax(df['Count'])]\n",
    "print('Most common cabin type : '+cab)"
   ]
  },
  {
   "cell_type": "markdown",
   "id": "d2cb17ee",
   "metadata": {},
   "source": [
    "## Unique values and frequency in 'Embarked' column "
   ]
  },
  {
   "cell_type": "code",
   "execution_count": 10,
   "id": "3a33704b",
   "metadata": {},
   "outputs": [
    {
     "name": "stderr",
     "output_type": "stream",
     "text": [
      "/Users/daviddiegocastro/opt/anaconda3/lib/python3.8/site-packages/seaborn/_decorators.py:36: FutureWarning: Pass the following variable as a keyword arg: x. From version 0.12, the only valid positional argument will be `data`, and passing other arguments without an explicit keyword will result in an error or misinterpretation.\n",
      "  warnings.warn(\n"
     ]
    },
    {
     "data": {
      "image/png": "[encoded data removed]",
      "text/plain": [
       "<Figure size 432x288 with 1 Axes>"
      ]
     },
     "metadata": {
      "needs_background": "light"
     },
     "output_type": "display_data"
    }
   ],
   "source": [
    "sb.countplot('Embarked', data = df_train)\n",
    "plt.show() "
   ]
  },
  {
   "cell_type": "markdown",
   "id": "b592e5e0",
   "metadata": {},
   "source": [
    "---\n",
    "# CLEANING THE DATA\n",
    "## Issues:\n",
    "\n",
    "* The data contain NaN values (both training and set)"
   ]
  },
  {
   "cell_type": "markdown",
   "id": "691db8cc",
   "metadata": {},
   "source": [
    "### Dealing with NaN values in 'Age' columns\n",
    "We will set the missing values to the average value"
   ]
  },
  {
   "cell_type": "code",
   "execution_count": 11,
   "id": "e5ec911e",
   "metadata": {},
   "outputs": [],
   "source": [
    "df_train['Age'][df_train.loc[:,'Age'].isnull()] = df_train['Age'].mean()\n",
    "df_test['Age'][df_test.loc[:,'Age'].isnull()] = df_test['Age'].mean()"
   ]
  },
  {
   "cell_type": "markdown",
   "id": "87caf3b0",
   "metadata": {},
   "source": [
    "### Dealing with NaN values in 'Cabin' columns\n",
    "The most common cabin type, that is: 'G6'"
   ]
  },
  {
   "cell_type": "code",
   "execution_count": 12,
   "id": "bf62e7da",
   "metadata": {},
   "outputs": [],
   "source": [
    "df_train['Cabin'][df_train.loc[:,'Cabin'].isnull()] = 'G6'\n",
    "df_test['Cabin'][df_test.loc[:,'Cabin'].isnull()] = 'G6'"
   ]
  },
  {
   "cell_type": "markdown",
   "id": "d21902aa",
   "metadata": {},
   "source": [
    "### Dealing with NaN values in 'Embarked' column (training set)\n",
    "The most common embarking harbour: 'S'"
   ]
  },
  {
   "cell_type": "code",
   "execution_count": 13,
   "id": "06106b9a",
   "metadata": {},
   "outputs": [],
   "source": [
    "df_train['Embarked'][df_train.loc[:,'Embarked'].isnull()] = 'S'"
   ]
  },
  {
   "cell_type": "markdown",
   "id": "56c308d4",
   "metadata": {},
   "source": [
    "### Dealing with NaN values in 'Fare' column (test set)\n",
    "We will set the missing values to the average value"
   ]
  },
  {
   "cell_type": "code",
   "execution_count": 14,
   "id": "33e3cb19",
   "metadata": {},
   "outputs": [],
   "source": [
    "df_test['Fare'][df_test.loc[:,'Fare'].isnull()] = df_test['Fare'].mean() "
   ]
  },
  {
   "cell_type": "markdown",
   "id": "8c05f04e",
   "metadata": {},
   "source": [
    "## Check data is cleaned"
   ]
  },
  {
   "cell_type": "code",
   "execution_count": 15,
   "id": "74b777d8",
   "metadata": {},
   "outputs": [
    {
     "data": {
      "text/plain": [
       "PassengerId    0\n",
       "Survived       0\n",
       "Pclass         0\n",
       "Name           0\n",
       "Sex            0\n",
       "Age            0\n",
       "SibSp          0\n",
       "Parch          0\n",
       "Ticket         0\n",
       "Fare           0\n",
       "Cabin          0\n",
       "Embarked       0\n",
       "dtype: int64"
      ]
     },
     "execution_count": 15,
     "metadata": {},
     "output_type": "execute_result"
    }
   ],
   "source": [
    "df_train.isnull().sum()"
   ]
  },
  {
   "cell_type": "code",
   "execution_count": 16,
   "id": "536d91be",
   "metadata": {},
   "outputs": [
    {
     "data": {
      "text/plain": [
       "PassengerId    0\n",
       "Pclass         0\n",
       "Name           0\n",
       "Sex            0\n",
       "Age            0\n",
       "SibSp          0\n",
       "Parch          0\n",
       "Ticket         0\n",
       "Fare           0\n",
       "Cabin          0\n",
       "Embarked       0\n",
       "dtype: int64"
      ]
     },
     "execution_count": 16,
     "metadata": {},
     "output_type": "execute_result"
    }
   ],
   "source": [
    "df_test.isnull().sum() "
   ]
  },
  {
   "cell_type": "markdown",
   "id": "c6cd2106",
   "metadata": {},
   "source": [
    "---\n",
    "## Applying bag-of-words approach to convert strings into integers.\n",
    "\n",
    "* We will exclude the 'Name' column. It is redundant with respect to 'PassengerId' \n",
    "* Also, the column 'Ticket' contain nearly as many different elements as entries (so it does not provide relevant new information)"
   ]
  },
  {
   "cell_type": "code",
   "execution_count": 17,
   "id": "b7935470",
   "metadata": {},
   "outputs": [
    {
     "name": "stdout",
     "output_type": "stream",
     "text": [
      "Fraction of different values in Train.Ticket column: 0.76\n",
      "Fraction of different values in Test.Ticket column: 0.87\n",
      "\n",
      "Fraction of different values in Train.Cabin column: 0.16\n",
      "Fraction of different values in Test.Cabin column: 0.18\n",
      "\n",
      "Fraction of different values in Train.Embarked column: 0.0034\n",
      "Fraction of different values in Test.Embarked column: 0.0072\n"
     ]
    }
   ],
   "source": [
    "frac_ticket_train = len(df_train['Ticket'].unique()) / df_train.shape[0]\n",
    "frac_ticket_test = len(df_test['Ticket'].unique()) / df_test.shape[0]\n",
    "frac_cabin_train = len(df_train['Cabin'].unique()) / df_train.shape[0]\n",
    "frac_cabin_test = len(df_test['Cabin'].unique()) / df_test.shape[0]\n",
    "frac_emb_train = len(df_train['Embarked'].unique()) / df_train.shape[0]\n",
    "frac_emb_test = len(df_test['Embarked'].unique()) / df_test.shape[0]\n",
    "\n",
    "print(\"Fraction of different values in Train.Ticket column: {:.2f}\".format(frac_ticket_train))\n",
    "print(\"Fraction of different values in Test.Ticket column: {:.2f}\\n\".format(frac_ticket_test))\n",
    "print(\"Fraction of different values in Train.Cabin column: {:.2f}\".format(frac_cabin_train))\n",
    "print(\"Fraction of different values in Test.Cabin column: {:.2f}\\n\".format(frac_cabin_test))\n",
    "print(\"Fraction of different values in Train.Embarked column: {:.4f}\".format(frac_emb_train))\n",
    "print(\"Fraction of different values in Test.Embarked column: {:.4f}\".format(frac_emb_test))"
   ]
  },
  {
   "cell_type": "markdown",
   "id": "30d5e155",
   "metadata": {},
   "source": [
    "### Getting dictionaries from (relevant) string columns"
   ]
  },
  {
   "cell_type": "code",
   "execution_count": 18,
   "id": "7f65906b",
   "metadata": {},
   "outputs": [
    {
     "name": "stdout",
     "output_type": "stream",
     "text": [
      "[True, False, True]\n"
     ]
    }
   ],
   "source": [
    "str_cols = ['Sex','Cabin','Embarked']\n",
    "bag_of_words = []\n",
    "is_test_in_train = []\n",
    "for col in str_cols:\n",
    "    bow = {}\n",
    "    words = df_train[col].unique()\n",
    "    for w in words:\n",
    "        if w not in bow:\n",
    "            bow[w] = len(bow)\n",
    "    bag_of_words.append(bow)\n",
    "    ## Check if the corresponding column in test data contains \n",
    "    ## no new element\n",
    "    subset = True\n",
    "    words = df_test[col].unique()\n",
    "    for w in words:\n",
    "        subset = min(subset , w in bow)\n",
    "    is_test_in_train.append(subset)\n",
    "\n",
    "\n",
    "print(is_test_in_train)"
   ]
  },
  {
   "cell_type": "markdown",
   "id": "e154f108",
   "metadata": {},
   "source": [
    "### Transforming strings into integers for the columns for which the test data does not contain any new element"
   ]
  },
  {
   "cell_type": "code",
   "execution_count": 19,
   "id": "cced6a65",
   "metadata": {},
   "outputs": [],
   "source": [
    "cols = list(compress(str_cols , is_test_in_train))\n",
    "bow = list(compress(bag_of_words , is_test_in_train))\n",
    "for i in range(len(cols)):\n",
    "    col = cols[i]\n",
    "    for w,value in bow[i].items():\n",
    "        df_train[col][df_train[col] == w] = value\n",
    "        df_test[col][df_test[col] == w] = value \n",
    "    "
   ]
  },
  {
   "cell_type": "markdown",
   "id": "dd56eaa3",
   "metadata": {},
   "source": [
    "### Dealing with string columns for which test data contain different elements"
   ]
  },
  {
   "cell_type": "code",
   "execution_count": 20,
   "id": "d74bf326",
   "metadata": {},
   "outputs": [],
   "source": [
    "cols = list(compress(str_cols , np.logical_not(is_test_in_train)))\n",
    "bow = list(compress(bag_of_words , np.logical_not(is_test_in_train)))\n",
    "for i in range(len(cols)):\n",
    "    col = cols[i]\n",
    "    words = df_test[col].unique()\n",
    "    for w in words:\n",
    "        if w not in bow[i]:\n",
    "            bow[i][w]=len(bow[i])\n",
    "    \n",
    "    for w,value in bow[i].items():\n",
    "        df_train[col][df_train[col] == w] = value\n",
    "        df_test[col][df_test[col] == w] = value\n"
   ]
  },
  {
   "cell_type": "markdown",
   "id": "2f53fe2c",
   "metadata": {},
   "source": [
    "## Correlation between columns "
   ]
  },
  {
   "cell_type": "code",
   "execution_count": 21,
   "id": "b5f5110a",
   "metadata": {},
   "outputs": [
    {
     "data": {
      "image/png": "[encoded data removed]",
      "text/plain": [
       "<Figure size 432x288 with 2 Axes>"
      ]
     },
     "metadata": {
      "needs_background": "light"
     },
     "output_type": "display_data"
    }
   ],
   "source": [
    "sb.heatmap(df_train.corr())\n",
    "plt.show()"
   ]
  },
  {
   "cell_type": "markdown",
   "id": "31d459c0",
   "metadata": {},
   "source": [
    "## The columns 'SibSp' and 'Parch' seem to be correlated. \n",
    "We may add them into a single column named 'Num_relatives'"
   ]
  },
  {
   "cell_type": "code",
   "execution_count": 22,
   "id": "cbe88ab9",
   "metadata": {},
   "outputs": [],
   "source": [
    "df_train['Num_relatives'] = df_train['SibSp']+df_train['Parch']\n",
    "df_test['Num_relatives'] = df_test['SibSp']+df_test['Parch']"
   ]
  },
  {
   "cell_type": "markdown",
   "id": "4b26dd1c",
   "metadata": {},
   "source": [
    "---\n",
    "## Extracting feature vectors representing Titanic passengers\n",
    "Data will be labeled as:\n",
    "\n",
    "    * x_train, x_test : numpy array of shape (n,feat_dim). Each row is a feature vector representing a passenger\n",
    "    * y_train : numpy array of shape (n,). Each entry contains 1 if the passenger survived, 0 otherwise."
   ]
  },
  {
   "cell_type": "code",
   "execution_count": 23,
   "id": "ed542a9a",
   "metadata": {},
   "outputs": [],
   "source": [
    "discarded_cols = ['Passenger_Id','Name','Ticket','Survived','SibSp','Parch']\n",
    "selected_cols = list(set(list(df_train.columns)) - set(discarded_cols))\n",
    "\n",
    "x_train = df_train[selected_cols].to_numpy().astype(float)\n",
    "x_test = df_test[selected_cols].to_numpy().astype(float)\n",
    "y_train = df_train['Survived'].to_numpy().astype(int)"
   ]
  },
  {
   "cell_type": "markdown",
   "id": "ff977281",
   "metadata": {},
   "source": [
    "### Normalize the data"
   ]
  },
  {
   "cell_type": "code",
   "execution_count": 24,
   "id": "88a8a599",
   "metadata": {},
   "outputs": [],
   "source": [
    "x_train = x_train / x_train.max(axis=0)\n",
    "x_test = x_test / x_test.max(axis=0)"
   ]
  },
  {
   "cell_type": "markdown",
   "id": "ae875862",
   "metadata": {},
   "source": [
    "---\n",
    "## Dimensionality reduction and data visualization"
   ]
  },
  {
   "cell_type": "markdown",
   "id": "26fb9032",
   "metadata": {},
   "source": [
    "### Applying PCA to feature vectors"
   ]
  },
  {
   "cell_type": "code",
   "execution_count": 25,
   "id": "64c98ad3",
   "metadata": {},
   "outputs": [],
   "source": [
    "pca = PCA(n_components=6)\n",
    "# Centering the training data\n",
    "x_cent = (x_train.T-x_train.mean(axis=1)).T\n",
    "pca.fit(x_cent)\n",
    "# Extract the PC of the centered data\n",
    "pcx_train = pca.transform(x_cent)\n",
    "\n",
    "# Centering the test data\n",
    "x_cent = (x_test.T-x_test.mean(axis=1)).T\n",
    "pca.fit(x_cent)\n",
    "# Extract the PC of the centered data\n",
    "pcx_test = pca.transform(x_cent)"
   ]
  },
  {
   "cell_type": "markdown",
   "id": "47e64892",
   "metadata": {},
   "source": [
    "### Visualizing the spatial distribution of data"
   ]
  },
  {
   "cell_type": "code",
   "execution_count": 26,
   "id": "ecd5c1b9",
   "metadata": {},
   "outputs": [],
   "source": [
    "def pc_plot(data,n_pc_comp=2):\n",
    "    \"\"\"\n",
    "    Generates the scatter plot of the PCA transformed data\n",
    "    Args:\n",
    "        data : numpy array of shape (n_samples,dim_feature)\n",
    "               Containd the PC decomposition of the (centered)\n",
    "               original data\n",
    "        n_pc_comp : integer. \n",
    "                    Number of principal components to plot\n",
    "                    Default n_pc_comp = 2\n",
    "    \"\"\"\n",
    "    \n",
    "    if n_pc_comp not in [2,3]:\n",
    "        n_pc_comp = 2\n",
    "    \n",
    "    title = 'Principal components of training feature vectors'\n",
    "    \n",
    "    plt.rc('xtick',labelsize = 15)\n",
    "    plt.rc('ytick',labelsize = 15)\n",
    "    \n",
    "    color_green = df_train['Survived'].to_numpy() # survived\n",
    "    color_red = np.logical_not(color_green) # did not survive \n",
    "    \n",
    "    MS = 30 # Marker Size\n",
    "    \n",
    "    if n_pc_comp == 2:\n",
    "        \n",
    "        ## Plot data with label: did not survive \n",
    "\n",
    "        plt.scatter(data[color_red,0],data[color_red,1],\n",
    "                  s=MS,c = 'r',marker = '.')\n",
    "\n",
    "        ## Plot data with label: survived\n",
    "        plt.scatter(data[color_green,0],data[color_green,1],\n",
    "                  s=MS,c = 'g',marker = '.')\n",
    "\n",
    "        plt.legend(['did not survive','survived'])\n",
    "\n",
    "        plt.xlabel('pc1', fontsize=20)\n",
    "        plt.ylabel('pc2', fontsize=20)\n",
    "        plt.title(title,fontsize=20)\n",
    "        plt.show()\n",
    "    else:\n",
    "        figsize = (30,30)\n",
    "        fig = plt.figure()\n",
    "        ax = Axes3D(fig)\n",
    "\n",
    "        ## Plot data with label: did not survive\n",
    "        ax.scatter(data[color_red,0],data[color_red,1],data[color_red,2],\n",
    "                   c = 'r',marker = '.')\n",
    "\n",
    "        ## Plot data with label: survived\n",
    "        plt.scatter(data[color_green,0],data[color_green,1],data[color_green,2],\n",
    "                    c = 'g',marker = '.')\n",
    "\n",
    "        ax.legend(['did not survive','survived'])\n",
    "\n",
    "        ax.set_xlabel('pc1', fontsize=20)\n",
    "        ax.set_ylabel('pc2', fontsize=20)\n",
    "        ax.set_zlabel('pc3', fontsize=20)\n",
    "        ax.set_title(title,fontsize=20)\n",
    "        plt.show()\n",
    "    "
   ]
  },
  {
   "cell_type": "markdown",
   "id": "c10c861c",
   "metadata": {},
   "source": [
    "### Plotting the first 2 PC"
   ]
  },
  {
   "cell_type": "code",
   "execution_count": 27,
   "id": "41c23021",
   "metadata": {},
   "outputs": [
    {
     "data": {
      "image/png": "[encoded data removed]",
      "text/plain": [
       "<Figure size 432x288 with 1 Axes>"
      ]
     },
     "metadata": {
      "needs_background": "light"
     },
     "output_type": "display_data"
    }
   ],
   "source": [
    "pc_plot(pcx_train)"
   ]
  },
  {
   "cell_type": "markdown",
   "id": "4ca5ccf6",
   "metadata": {},
   "source": [
    "### Plotting the first 3 PC"
   ]
  },
  {
   "cell_type": "code",
   "execution_count": 28,
   "id": "999e64b9",
   "metadata": {},
   "outputs": [
    {
     "name": "stderr",
     "output_type": "stream",
     "text": [
      "/Users/daviddiegocastro/opt/anaconda3/lib/python3.8/site-packages/matplotlib/collections.py:922: RuntimeWarning: invalid value encountered in sqrt\n",
      "  scale = np.sqrt(self._sizes) * dpi / 72.0 * self._factor\n"
     ]
    },
    {
     "data": {
      "image/png": "[encoded data removed]",
      "text/plain": [
       "<Figure size 432x288 with 1 Axes>"
      ]
     },
     "metadata": {
      "needs_background": "light"
     },
     "output_type": "display_data"
    }
   ],
   "source": [
    "pc_plot(pcx_train,n_pc_comp=3)"
   ]
  },
  {
   "cell_type": "markdown",
   "id": "7c109616",
   "metadata": {},
   "source": [
    "---\n",
    "# Fitting the data\n",
    "We will use the non-linear classifier NuSVC() with the option weight_class = 'balanced'"
   ]
  },
  {
   "cell_type": "markdown",
   "id": "df005c4f",
   "metadata": {},
   "source": [
    "## Parameter searching"
   ]
  },
  {
   "cell_type": "markdown",
   "id": "86b04da8",
   "metadata": {},
   "source": [
    "### Set searching ranges"
   ]
  },
  {
   "cell_type": "code",
   "execution_count": 29,
   "id": "43f8fa13",
   "metadata": {},
   "outputs": [],
   "source": [
    "perm = np.arange(x_train.shape[0])\n",
    "np.random.shuffle(perm)\n",
    "split_index = int(x_train.shape[0])"
   ]
  },
  {
   "cell_type": "markdown",
   "id": "02b82a8d",
   "metadata": {},
   "source": [
    "### 1) Using the entire feature vector"
   ]
  },
  {
   "cell_type": "code",
   "execution_count": 30,
   "id": "29926156",
   "metadata": {},
   "outputs": [
    {
     "name": "stdout",
     "output_type": "stream",
     "text": [
      "Computation time: 0.17 seconds\n",
      "\n",
      "Feat. vect. Corresponding score: 1.0000\n"
     ]
    }
   ],
   "source": [
    "## Obtain training sample\n",
    "\n",
    "sample = x_train.copy()\n",
    "y_sample = y_train.copy()\n",
    "sample = sample[perm]\n",
    "y_sample = y_sample[perm]\n",
    "\n",
    "sample = sample[:split_index]\n",
    "y_sample = y_sample[:split_index]\n",
    "\n",
    "## Do the search\n",
    "\n",
    "score_feat = []\n",
    "\n",
    "tic = time.perf_counter()\n",
    "\n",
    "clf = rfc(class_weight='balanced')\n",
    "clf.fit(sample,y_sample)\n",
    "score_feat = clf.score(sample, y_sample)\n",
    "                   \n",
    "toc = time.perf_counter()\n",
    "\n",
    "\n",
    "print(\"Computation time: {:.2f} seconds\".format(toc-tic))\n",
    "print(\"\\nFeat. vect. Corresponding score: {:.4f}\".format(np.max(score_feat)))"
   ]
  },
  {
   "cell_type": "markdown",
   "id": "b57014b9",
   "metadata": {},
   "source": [
    "### 2) Using dimensionality reduction (PCA)"
   ]
  },
  {
   "cell_type": "code",
   "execution_count": 31,
   "id": "4f8c39d1",
   "metadata": {},
   "outputs": [
    {
     "data": {
      "image/png": "[encoded data removed]",
      "text/plain": [
       "<Figure size 432x288 with 1 Axes>"
      ]
     },
     "metadata": {
      "needs_background": "light"
     },
     "output_type": "display_data"
    },
    {
     "name": "stdout",
     "output_type": "stream",
     "text": [
      "Computation time: 0.93 seconds\n",
      "\n",
      "PCA. Best number of principal components: 2\n",
      "PCA. Corresponfing highest score: 1.0000\n"
     ]
    }
   ],
   "source": [
    "## Obtain training sample\n",
    "\n",
    "sample = pcx_train.copy()\n",
    "y_sample = y_train.copy()\n",
    "sample = sample[perm]\n",
    "y_sample = y_sample[perm]\n",
    "\n",
    "sample = sample[:split_index]\n",
    "y_sample = y_sample[:split_index]\n",
    "\n",
    "## Do the search \n",
    "\n",
    "n_comps = np.arange(2,7)\n",
    "scores = []\n",
    "\n",
    "tic = time.perf_counter()\n",
    "for nc in n_comps:\n",
    "    clf = rfc(class_weight='balanced')\n",
    "    clf.fit(sample[:,:nc],y_sample)\n",
    "    scores.append(clf.score(sample[:,:nc],y_sample))\n",
    "\n",
    "toc = time.perf_counter()\n",
    "\n",
    "best = np.argmax(scores) \n",
    "score_pca = scores[best]\n",
    "best_n_comp = n_comps[best]\n",
    "\n",
    "\n",
    "plt.rc('xtick',labelsize = 15)\n",
    "plt.rc('ytick',labelsize = 15)\n",
    "\n",
    "\n",
    "plt.plot(n_comps,scores)\n",
    "plt.xlabel('num pc',fontsize=20)\n",
    "plt.ylabel('score',fontsize=20)\n",
    "plt.show()\n",
    "\n",
    "print(\"Computation time: {:.2f} seconds\".format(toc-tic))\n",
    "print(\"\\nPCA. Best number of principal components: {}\".format(best_n_comp))\n",
    "print(\"PCA. Corresponfing highest score: {:.4f}\".format(score_pca))"
   ]
  },
  {
   "cell_type": "markdown",
   "id": "13424f6a",
   "metadata": {},
   "source": [
    "## Setting the nu-parameter and the method\n",
    "The options for the method are: \n",
    "* method = 'feat'\n",
    "    * The fitting is preformed on the whole feature vector\n",
    "* method = 'pca'\n",
    "    * The fitting is preformed on the PCA reduction\n",
    "    * n_pc : Number of principal components to use in the fit"
   ]
  },
  {
   "cell_type": "code",
   "execution_count": 32,
   "id": "e413a738",
   "metadata": {},
   "outputs": [],
   "source": [
    "scores = (score_feat , score_pca)\n",
    "Method = ('feat','pca')\n",
    "\n",
    "ind = np.argmax(scores)\n",
    "method = Method[ind]\n",
    "n_pc = best_n_comp"
   ]
  },
  {
   "cell_type": "markdown",
   "id": "bb9091d3",
   "metadata": {},
   "source": [
    "### Extracting training sample"
   ]
  },
  {
   "cell_type": "code",
   "execution_count": 33,
   "id": "ac6c305f",
   "metadata": {},
   "outputs": [],
   "source": [
    "def extract_sample(sample_size, method = method, n_pc = n_pc):\n",
    "    \"\"\"\n",
    "    Extracts a sample from the training data\n",
    "    \n",
    "    Args:\n",
    "        sample_size : integer. The size of the sample\n",
    "        method : string. If method = 'feat' : extracts sample from x_train\n",
    "                         If method = 'pca' : extracts sample from the pcx_train\n",
    "        n_pc : integer. Number of principal components to use\n",
    "                        when method = 'pca'\n",
    "                         \n",
    "    Returns:\n",
    "        tuple : (sample , y_sample)\n",
    "                sample : 2d numpy array containing the training sample\n",
    "                y_sample : 1d numpy array containing the corresponding labels\n",
    "                 \n",
    "    \"\"\"\n",
    "    ## Get a copy of the suitable data according the method\n",
    "    if method == 'feat':\n",
    "        sample = x_train.copy()\n",
    "    else:\n",
    "        sample = pcx_train[:,:n_pc].copy()\n",
    "    \n",
    "    y_sample = y_train.copy()\n",
    "    \n",
    "    ## Get a permutation of the training feature vector indices\n",
    "    perm = np.arange(x_train.shape[0])\n",
    "    np.random.shuffle(perm)\n",
    "    \n",
    "    ## Sample the data\n",
    "    sample = sample[perm]\n",
    "    y_sample = y_sample[perm]\n",
    "\n",
    "    sample = sample[:sample_size]\n",
    "    y_sample = y_sample[:sample_size]\n",
    "    \n",
    "    return sample, y_sample "
   ]
  },
  {
   "cell_type": "markdown",
   "id": "d8a68c33",
   "metadata": {},
   "source": [
    "### Fitting the model"
   ]
  },
  {
   "cell_type": "code",
   "execution_count": 34,
   "id": "0820e8e6",
   "metadata": {},
   "outputs": [],
   "source": [
    "def fit_data(sample_size, method=method,\n",
    "             n_pc=n_pc):\n",
    "    \"\"\"\n",
    "    Fits the data using the NuSVC classifier, using\n",
    "    RBF as kernel\n",
    "    \n",
    "    Args:\n",
    "        sample_size : integer. Size of the training sample \n",
    "        nu : float. nu-parameter for the NuSVC classifier\n",
    "        method : string. method for extracting the training sample\n",
    "        n_pc : integer. Number of principal components to use\n",
    "                        when method = 'pca'\n",
    "    Returns:\n",
    "        clf :         the fitted classifier\n",
    "        predictions : numpy array of shape (n_bookings ,)\n",
    "                      Contains the extra baggage predictions\n",
    "                      for the test data\n",
    "    \"\"\"\n",
    "    \n",
    "    ## Extract the sample\n",
    "    sample, y_sample = extract_sample(sample_size,\n",
    "                                    method = method, n_pc = n_pc)\n",
    "    \n",
    "    ## Do the fitting\n",
    "\n",
    "    clf = rfc(class_weight = 'balanced')\n",
    "    clf.fit(sample,y_sample)\n",
    "\n",
    "    ## Obtain predictions for the test data\n",
    "\n",
    "    if method == 'feat':\n",
    "        predictions = clf.predict(x_test)\n",
    "    else:\n",
    "        predictions = clf.predict(pcx_test[:,:n_pc])\n",
    "    \n",
    "    ## Compute the score over the training sample \n",
    "    accuracy = clf.score(sample,y_sample)\n",
    "    toc = time.perf_counter()\n",
    "  \n",
    "    \n",
    "    print(\"The accuracy score on the training sample is: {:.2f}\".format(accuracy))\n",
    "    \n",
    "    return clf, predictions  "
   ]
  },
  {
   "cell_type": "markdown",
   "id": "bce87f5a",
   "metadata": {},
   "source": [
    "### Randomly select a sample of 450 passengers from the training set and fit the data.\n",
    "    * This reduced training sample has similatr size to that of the test sample.\n",
    "    * This allows us to validate the fitting by applying it to a randomly selected new sample of similar size. "
   ]
  },
  {
   "cell_type": "code",
   "execution_count": 35,
   "id": "670222fa",
   "metadata": {},
   "outputs": [
    {
     "name": "stdout",
     "output_type": "stream",
     "text": [
      "The accuracy score on the training sample is: 1.00\n"
     ]
    }
   ],
   "source": [
    "clf, predictions = fit_data(int(x_train.shape[0]/2))"
   ]
  },
  {
   "cell_type": "markdown",
   "id": "5a544d0d",
   "metadata": {},
   "source": [
    "## Validate the fitting. \n",
    "\n",
    "* Apply the fitted classifier to another (randomly selected) sample from the training set:\n",
    "* This will give us an idea of the performance of the fitting on the test set."
   ]
  },
  {
   "cell_type": "code",
   "execution_count": 36,
   "id": "66464497",
   "metadata": {},
   "outputs": [
    {
     "name": "stdout",
     "output_type": "stream",
     "text": [
      "The accuracy score on the new sample is: 0.90\n"
     ]
    }
   ],
   "source": [
    "## Extract the sample\n",
    "sample, y_sample = extract_sample(int(x_train.shape[0]/2))\n",
    "\n",
    "## Compute the score over the new train sample  \n",
    "\n",
    "accuracy = clf.score(sample,y_sample)\n",
    "\n",
    "print(\"The accuracy score on the new sample is: {:.2f}\".format(accuracy))"
   ]
  },
  {
   "cell_type": "markdown",
   "id": "9771869c",
   "metadata": {},
   "source": [
    "---\n",
    "# Generating the predictions"
   ]
  },
  {
   "cell_type": "code",
   "execution_count": 37,
   "id": "c32305b4",
   "metadata": {},
   "outputs": [],
   "source": [
    "sur_predictions = pd.DataFrame(df_test['PassengerId']) \n",
    "sur_predictions['Survived'] = predictions\n",
    "#sur_predictions.to_csv(path_or_buf='Survival_predictions_RFC.csv',index=False)"
   ]
  },
  {
   "cell_type": "code",
   "execution_count": null,
   "id": "3b6f1d2c",
   "metadata": {},
   "outputs": [],
   "source": []
  }
 ],
 "metadata": {
  "kernelspec": {
   "display_name": "Python 3",
   "language": "python",
   "name": "python3"
  },
  "language_info": {
   "codemirror_mode": {
    "name": "ipython",
    "version": 3
   },
   "file_extension": ".py",
   "mimetype": "text/x-python",
   "name": "python",
   "nbconvert_exporter": "python",
   "pygments_lexer": "ipython3",
   "version": "3.8.3"
  }
 },
 "nbformat": 4,
 "nbformat_minor": 5
}
